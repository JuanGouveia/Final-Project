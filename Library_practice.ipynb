{
 "cells": [
  {
   "cell_type": "code",
   "execution_count": 1,
   "metadata": {},
   "outputs": [],
   "source": [
    "#%pip install fastf1"
   ]
  },
  {
   "cell_type": "code",
   "execution_count": 2,
   "metadata": {},
   "outputs": [],
   "source": [
    "import matplotlib.pyplot as plt\n",
    "import pandas as pd\n",
    "from timple.timedelta import strftimedelta\n",
    "\n",
    "import fastf1 as f1\n",
    "import fastf1.plotting\n",
    "from fastf1.core import Laps"
   ]
  },
  {
   "cell_type": "code",
   "execution_count": 3,
   "metadata": {},
   "outputs": [
    {
     "name": "stderr",
     "output_type": "stream",
     "text": [
      "req         WARNING \t\n",
      "\n",
      "DEFAULT CACHE ENABLED!\n",
      "\tCache directory: C:\\Users\\usuario\\AppData\\Local\\Temp\\fastf1.\n",
      "\tSize: 656.2 MB\n"
     ]
    },
    {
     "data": {
      "text/plain": [
       "'Qualifying'"
      ]
     },
     "execution_count": 3,
     "metadata": {},
     "output_type": "execute_result"
    }
   ],
   "source": [
    "session = f1.get_session(2021, 7, 'Q')\n",
    "session.name"
   ]
  },
  {
   "cell_type": "code",
   "execution_count": 4,
   "metadata": {},
   "outputs": [
    {
     "data": {
      "text/plain": [
       "Timestamp('2021-06-19 13:00:00')"
      ]
     },
     "execution_count": 4,
     "metadata": {},
     "output_type": "execute_result"
    }
   ],
   "source": [
    "session.date"
   ]
  },
  {
   "cell_type": "code",
   "execution_count": 5,
   "metadata": {},
   "outputs": [
    {
     "data": {
      "text/plain": [
       "RoundNumber                                                     7\n",
       "Country                                                    France\n",
       "Location                                             Le Castellet\n",
       "OfficialEventName    FORMULA 1 EMIRATES GRAND PRIX DE FRANCE 2021\n",
       "EventDate                                     2021-06-20 00:00:00\n",
       "EventName                                       French Grand Prix\n",
       "EventFormat                                          conventional\n",
       "Session1                                               Practice 1\n",
       "Session1Date                            2021-06-18 11:30:00+02:00\n",
       "Session1DateUtc                               2021-06-18 09:30:00\n",
       "Session2                                               Practice 2\n",
       "Session2Date                            2021-06-18 15:00:00+02:00\n",
       "Session2DateUtc                               2021-06-18 13:00:00\n",
       "Session3                                               Practice 3\n",
       "Session3Date                            2021-06-19 12:00:00+02:00\n",
       "Session3DateUtc                               2021-06-19 10:00:00\n",
       "Session4                                               Qualifying\n",
       "Session4Date                            2021-06-19 15:00:00+02:00\n",
       "Session4DateUtc                               2021-06-19 13:00:00\n",
       "Session5                                                     Race\n",
       "Session5Date                            2021-06-20 15:00:00+02:00\n",
       "Session5DateUtc                               2021-06-20 13:00:00\n",
       "F1ApiSupport                                                 True\n",
       "Name: 7, dtype: object"
      ]
     },
     "execution_count": 5,
     "metadata": {},
     "output_type": "execute_result"
    }
   ],
   "source": [
    "session.event"
   ]
  },
  {
   "cell_type": "code",
   "execution_count": 6,
   "metadata": {},
   "outputs": [
    {
     "data": {
      "text/plain": [
       "'French Grand Prix'"
      ]
     },
     "execution_count": 6,
     "metadata": {},
     "output_type": "execute_result"
    }
   ],
   "source": [
    "session.event['EventName']"
   ]
  },
  {
   "cell_type": "code",
   "execution_count": 7,
   "metadata": {},
   "outputs": [
    {
     "data": {
      "text/plain": [
       "Timestamp('2021-06-20 00:00:00')"
      ]
     },
     "execution_count": 7,
     "metadata": {},
     "output_type": "execute_result"
    }
   ],
   "source": [
    "session.event['EventDate']"
   ]
  },
  {
   "cell_type": "code",
   "execution_count": 8,
   "metadata": {},
   "outputs": [
    {
     "data": {
      "text/plain": [
       "RoundNumber                                                     7\n",
       "Country                                                    France\n",
       "Location                                             Le Castellet\n",
       "OfficialEventName    FORMULA 1 EMIRATES GRAND PRIX DE FRANCE 2021\n",
       "EventDate                                     2021-06-20 00:00:00\n",
       "EventName                                       French Grand Prix\n",
       "EventFormat                                          conventional\n",
       "Session1                                               Practice 1\n",
       "Session1Date                            2021-06-18 11:30:00+02:00\n",
       "Session1DateUtc                               2021-06-18 09:30:00\n",
       "Session2                                               Practice 2\n",
       "Session2Date                            2021-06-18 15:00:00+02:00\n",
       "Session2DateUtc                               2021-06-18 13:00:00\n",
       "Session3                                               Practice 3\n",
       "Session3Date                            2021-06-19 12:00:00+02:00\n",
       "Session3DateUtc                               2021-06-19 10:00:00\n",
       "Session4                                               Qualifying\n",
       "Session4Date                            2021-06-19 15:00:00+02:00\n",
       "Session4DateUtc                               2021-06-19 13:00:00\n",
       "Session5                                                     Race\n",
       "Session5Date                            2021-06-20 15:00:00+02:00\n",
       "Session5DateUtc                               2021-06-20 13:00:00\n",
       "F1ApiSupport                                                 True\n",
       "Name: 7, dtype: object"
      ]
     },
     "execution_count": 8,
     "metadata": {},
     "output_type": "execute_result"
    }
   ],
   "source": [
    "event = f1.get_event(2021, 7)\n",
    "event"
   ]
  },
  {
   "cell_type": "code",
   "execution_count": 9,
   "metadata": {},
   "outputs": [
    {
     "data": {
      "text/plain": [
       "'Spanish Grand Prix'"
      ]
     },
     "execution_count": 9,
     "metadata": {},
     "output_type": "execute_result"
    }
   ],
   "source": [
    "event = f1.get_event(2021, 'Spain')\n",
    "event['EventName']"
   ]
  },
  {
   "cell_type": "code",
   "execution_count": 10,
   "metadata": {},
   "outputs": [
    {
     "data": {
      "text/plain": [
       "'Belgian Grand Prix'"
      ]
     },
     "execution_count": 10,
     "metadata": {},
     "output_type": "execute_result"
    }
   ],
   "source": [
    "event = f1.get_event(2021, 'Emilian')       # error de busqueda\n",
    "event['EventName']"
   ]
  },
  {
   "cell_type": "code",
   "execution_count": 11,
   "metadata": {},
   "outputs": [
    {
     "data": {
      "text/plain": [
       "'Emilia Romagna Grand Prix'"
      ]
     },
     "execution_count": 11,
     "metadata": {},
     "output_type": "execute_result"
    }
   ],
   "source": [
    "event = f1.get_event(2021, 'Emilia Romagna')\n",
    "event['EventName']"
   ]
  },
  {
   "cell_type": "code",
   "execution_count": 12,
   "metadata": {},
   "outputs": [
    {
     "data": {
      "text/plain": [
       "'British Grand Prix'"
      ]
     },
     "execution_count": 12,
     "metadata": {},
     "output_type": "execute_result"
    }
   ],
   "source": [
    "session = f1.get_session(2021, 'Silverstone', 'Q')\n",
    "session.event['EventName']"
   ]
  },
  {
   "cell_type": "code",
   "execution_count": 14,
   "metadata": {},
   "outputs": [
    {
     "data": {
      "text/html": [
       "<div>\n",
       "<style scoped>\n",
       "    .dataframe tbody tr th:only-of-type {\n",
       "        vertical-align: middle;\n",
       "    }\n",
       "\n",
       "    .dataframe tbody tr th {\n",
       "        vertical-align: top;\n",
       "    }\n",
       "\n",
       "    .dataframe thead th {\n",
       "        text-align: right;\n",
       "    }\n",
       "</style>\n",
       "<table border=\"1\" class=\"dataframe\">\n",
       "  <thead>\n",
       "    <tr style=\"text-align: right;\">\n",
       "      <th></th>\n",
       "      <th>RoundNumber</th>\n",
       "      <th>Country</th>\n",
       "      <th>Location</th>\n",
       "      <th>OfficialEventName</th>\n",
       "      <th>EventDate</th>\n",
       "      <th>EventName</th>\n",
       "      <th>EventFormat</th>\n",
       "      <th>Session1</th>\n",
       "      <th>Session1Date</th>\n",
       "      <th>Session1DateUtc</th>\n",
       "      <th>...</th>\n",
       "      <th>Session3</th>\n",
       "      <th>Session3Date</th>\n",
       "      <th>Session3DateUtc</th>\n",
       "      <th>Session4</th>\n",
       "      <th>Session4Date</th>\n",
       "      <th>Session4DateUtc</th>\n",
       "      <th>Session5</th>\n",
       "      <th>Session5Date</th>\n",
       "      <th>Session5DateUtc</th>\n",
       "      <th>F1ApiSupport</th>\n",
       "    </tr>\n",
       "  </thead>\n",
       "  <tbody>\n",
       "    <tr>\n",
       "      <th>0</th>\n",
       "      <td>0</td>\n",
       "      <td>Bahrain</td>\n",
       "      <td>Bahrain</td>\n",
       "      <td>FORMULA 1 ARAMCO PRE-SEASON TESTING 2021</td>\n",
       "      <td>2021-03-14</td>\n",
       "      <td>Pre-Season Test</td>\n",
       "      <td>testing</td>\n",
       "      <td>Practice 1</td>\n",
       "      <td>2021-03-12 10:00:00+03:00</td>\n",
       "      <td>2021-03-12 07:00:00</td>\n",
       "      <td>...</td>\n",
       "      <td>Practice 3</td>\n",
       "      <td>2021-03-14 10:00:00+03:00</td>\n",
       "      <td>2021-03-14 07:00:00</td>\n",
       "      <td>None</td>\n",
       "      <td>NaT</td>\n",
       "      <td>NaT</td>\n",
       "      <td>None</td>\n",
       "      <td>NaT</td>\n",
       "      <td>NaT</td>\n",
       "      <td>False</td>\n",
       "    </tr>\n",
       "    <tr>\n",
       "      <th>1</th>\n",
       "      <td>1</td>\n",
       "      <td>Bahrain</td>\n",
       "      <td>Sakhir</td>\n",
       "      <td>FORMULA 1 GULF AIR BAHRAIN GRAND PRIX 2021</td>\n",
       "      <td>2021-03-28</td>\n",
       "      <td>Bahrain Grand Prix</td>\n",
       "      <td>conventional</td>\n",
       "      <td>Practice 1</td>\n",
       "      <td>2021-03-26 14:30:00+03:00</td>\n",
       "      <td>2021-03-26 11:30:00</td>\n",
       "      <td>...</td>\n",
       "      <td>Practice 3</td>\n",
       "      <td>2021-03-27 15:00:00+03:00</td>\n",
       "      <td>2021-03-27 12:00:00</td>\n",
       "      <td>Qualifying</td>\n",
       "      <td>2021-03-27 18:00:00+03:00</td>\n",
       "      <td>2021-03-27 15:00:00</td>\n",
       "      <td>Race</td>\n",
       "      <td>2021-03-28 18:00:00+03:00</td>\n",
       "      <td>2021-03-28 15:00:00</td>\n",
       "      <td>True</td>\n",
       "    </tr>\n",
       "    <tr>\n",
       "      <th>2</th>\n",
       "      <td>2</td>\n",
       "      <td>Italy</td>\n",
       "      <td>Imola</td>\n",
       "      <td>FORMULA 1 PIRELLI GRAN PREMIO DEL MADE IN ITAL...</td>\n",
       "      <td>2021-04-18</td>\n",
       "      <td>Emilia Romagna Grand Prix</td>\n",
       "      <td>conventional</td>\n",
       "      <td>Practice 1</td>\n",
       "      <td>2021-04-16 11:00:00+02:00</td>\n",
       "      <td>2021-04-16 09:00:00</td>\n",
       "      <td>...</td>\n",
       "      <td>Practice 3</td>\n",
       "      <td>2021-04-17 11:00:00+02:00</td>\n",
       "      <td>2021-04-17 09:00:00</td>\n",
       "      <td>Qualifying</td>\n",
       "      <td>2021-04-17 14:00:00+02:00</td>\n",
       "      <td>2021-04-17 12:00:00</td>\n",
       "      <td>Race</td>\n",
       "      <td>2021-04-18 15:00:00+02:00</td>\n",
       "      <td>2021-04-18 13:00:00</td>\n",
       "      <td>True</td>\n",
       "    </tr>\n",
       "    <tr>\n",
       "      <th>3</th>\n",
       "      <td>3</td>\n",
       "      <td>Portugal</td>\n",
       "      <td>Portimão</td>\n",
       "      <td>FORMULA 1 HEINEKEN GRANDE PRÉMIO DE PORTUGAL 2021</td>\n",
       "      <td>2021-05-02</td>\n",
       "      <td>Portuguese Grand Prix</td>\n",
       "      <td>conventional</td>\n",
       "      <td>Practice 1</td>\n",
       "      <td>2021-04-30 11:30:00+01:00</td>\n",
       "      <td>2021-04-30 10:30:00</td>\n",
       "      <td>...</td>\n",
       "      <td>Practice 3</td>\n",
       "      <td>2021-05-01 12:00:00+01:00</td>\n",
       "      <td>2021-05-01 11:00:00</td>\n",
       "      <td>Qualifying</td>\n",
       "      <td>2021-05-01 15:00:00+01:00</td>\n",
       "      <td>2021-05-01 14:00:00</td>\n",
       "      <td>Race</td>\n",
       "      <td>2021-05-02 15:00:00+01:00</td>\n",
       "      <td>2021-05-02 14:00:00</td>\n",
       "      <td>True</td>\n",
       "    </tr>\n",
       "    <tr>\n",
       "      <th>4</th>\n",
       "      <td>4</td>\n",
       "      <td>Spain</td>\n",
       "      <td>Barcelona</td>\n",
       "      <td>FORMULA 1 ARAMCO GRAN PREMIO DE ESPAÑA 2021</td>\n",
       "      <td>2021-05-09</td>\n",
       "      <td>Spanish Grand Prix</td>\n",
       "      <td>conventional</td>\n",
       "      <td>Practice 1</td>\n",
       "      <td>2021-05-07 11:30:00+02:00</td>\n",
       "      <td>2021-05-07 09:30:00</td>\n",
       "      <td>...</td>\n",
       "      <td>Practice 3</td>\n",
       "      <td>2021-05-08 12:00:00+02:00</td>\n",
       "      <td>2021-05-08 10:00:00</td>\n",
       "      <td>Qualifying</td>\n",
       "      <td>2021-05-08 15:00:00+02:00</td>\n",
       "      <td>2021-05-08 13:00:00</td>\n",
       "      <td>Race</td>\n",
       "      <td>2021-05-09 15:00:00+02:00</td>\n",
       "      <td>2021-05-09 13:00:00</td>\n",
       "      <td>True</td>\n",
       "    </tr>\n",
       "  </tbody>\n",
       "</table>\n",
       "<p>5 rows × 23 columns</p>\n",
       "</div>"
      ],
      "text/plain": [
       "   RoundNumber   Country   Location   \n",
       "0            0   Bahrain    Bahrain  \\\n",
       "1            1   Bahrain     Sakhir   \n",
       "2            2     Italy      Imola   \n",
       "3            3  Portugal   Portimão   \n",
       "4            4     Spain  Barcelona   \n",
       "\n",
       "                                   OfficialEventName  EventDate   \n",
       "0           FORMULA 1 ARAMCO PRE-SEASON TESTING 2021 2021-03-14  \\\n",
       "1         FORMULA 1 GULF AIR BAHRAIN GRAND PRIX 2021 2021-03-28   \n",
       "2  FORMULA 1 PIRELLI GRAN PREMIO DEL MADE IN ITAL... 2021-04-18   \n",
       "3  FORMULA 1 HEINEKEN GRANDE PRÉMIO DE PORTUGAL 2021 2021-05-02   \n",
       "4        FORMULA 1 ARAMCO GRAN PREMIO DE ESPAÑA 2021 2021-05-09   \n",
       "\n",
       "                   EventName   EventFormat    Session1   \n",
       "0            Pre-Season Test       testing  Practice 1  \\\n",
       "1         Bahrain Grand Prix  conventional  Practice 1   \n",
       "2  Emilia Romagna Grand Prix  conventional  Practice 1   \n",
       "3      Portuguese Grand Prix  conventional  Practice 1   \n",
       "4         Spanish Grand Prix  conventional  Practice 1   \n",
       "\n",
       "                Session1Date     Session1DateUtc  ...    Session3   \n",
       "0  2021-03-12 10:00:00+03:00 2021-03-12 07:00:00  ...  Practice 3  \\\n",
       "1  2021-03-26 14:30:00+03:00 2021-03-26 11:30:00  ...  Practice 3   \n",
       "2  2021-04-16 11:00:00+02:00 2021-04-16 09:00:00  ...  Practice 3   \n",
       "3  2021-04-30 11:30:00+01:00 2021-04-30 10:30:00  ...  Practice 3   \n",
       "4  2021-05-07 11:30:00+02:00 2021-05-07 09:30:00  ...  Practice 3   \n",
       "\n",
       "                Session3Date     Session3DateUtc    Session4   \n",
       "0  2021-03-14 10:00:00+03:00 2021-03-14 07:00:00        None  \\\n",
       "1  2021-03-27 15:00:00+03:00 2021-03-27 12:00:00  Qualifying   \n",
       "2  2021-04-17 11:00:00+02:00 2021-04-17 09:00:00  Qualifying   \n",
       "3  2021-05-01 12:00:00+01:00 2021-05-01 11:00:00  Qualifying   \n",
       "4  2021-05-08 12:00:00+02:00 2021-05-08 10:00:00  Qualifying   \n",
       "\n",
       "                Session4Date     Session4DateUtc Session5   \n",
       "0                        NaT                 NaT     None  \\\n",
       "1  2021-03-27 18:00:00+03:00 2021-03-27 15:00:00     Race   \n",
       "2  2021-04-17 14:00:00+02:00 2021-04-17 12:00:00     Race   \n",
       "3  2021-05-01 15:00:00+01:00 2021-05-01 14:00:00     Race   \n",
       "4  2021-05-08 15:00:00+02:00 2021-05-08 13:00:00     Race   \n",
       "\n",
       "                Session5Date     Session5DateUtc F1ApiSupport  \n",
       "0                        NaT                 NaT        False  \n",
       "1  2021-03-28 18:00:00+03:00 2021-03-28 15:00:00         True  \n",
       "2  2021-04-18 15:00:00+02:00 2021-04-18 13:00:00         True  \n",
       "3  2021-05-02 15:00:00+01:00 2021-05-02 14:00:00         True  \n",
       "4  2021-05-09 15:00:00+02:00 2021-05-09 13:00:00         True  \n",
       "\n",
       "[5 rows x 23 columns]"
      ]
     },
     "execution_count": 14,
     "metadata": {},
     "output_type": "execute_result"
    }
   ],
   "source": [
    "schedule = f1.get_event_schedule(2021)\n",
    "schedule.head()"
   ]
  },
  {
   "cell_type": "code",
   "execution_count": 15,
   "metadata": {},
   "outputs": [
    {
     "data": {
      "text/plain": [
       "Index(['RoundNumber', 'Country', 'Location', 'OfficialEventName', 'EventDate',\n",
       "       'EventName', 'EventFormat', 'Session1', 'Session1Date',\n",
       "       'Session1DateUtc', 'Session2', 'Session2Date', 'Session2DateUtc',\n",
       "       'Session3', 'Session3Date', 'Session3DateUtc', 'Session4',\n",
       "       'Session4Date', 'Session4DateUtc', 'Session5', 'Session5Date',\n",
       "       'Session5DateUtc', 'F1ApiSupport'],\n",
       "      dtype='object')"
      ]
     },
     "execution_count": 15,
     "metadata": {},
     "output_type": "execute_result"
    }
   ],
   "source": [
    "schedule.columns"
   ]
  },
  {
   "cell_type": "code",
   "execution_count": 16,
   "metadata": {},
   "outputs": [
    {
     "data": {
      "text/plain": [
       "'Belgium'"
      ]
     },
     "execution_count": 16,
     "metadata": {},
     "output_type": "execute_result"
    }
   ],
   "source": [
    "gp_12 = schedule.get_event_by_round(12)\n",
    "gp_12['Country']"
   ]
  },
  {
   "cell_type": "code",
   "execution_count": 17,
   "metadata": {},
   "outputs": [
    {
     "data": {
      "text/plain": [
       "'United States'"
      ]
     },
     "execution_count": 17,
     "metadata": {},
     "output_type": "execute_result"
    }
   ],
   "source": [
    "gp_austin = schedule.get_event_by_name('Austin')\n",
    "gp_austin['Country']"
   ]
  },
  {
   "cell_type": "code",
   "execution_count": 18,
   "metadata": {},
   "outputs": [
    {
     "name": "stderr",
     "output_type": "stream",
     "text": [
      "core           INFO \tLoading data for French Grand Prix - Qualifying [v3.0.3]\n",
      "req            INFO \tUsing cached data for driver_info\n",
      "logger      WARNING \tFailed to load result data from Ergast!\n",
      "core        WARNING \tNo result data for this session available on Ergast! (This is expected for recent sessions)\n",
      "req            INFO \tUsing cached data for session_status_data\n",
      "req            INFO \tUsing cached data for track_status_data\n",
      "req            INFO \tUsing cached data for timing_data\n",
      "req            INFO \tUsing cached data for timing_app_data\n",
      "core           INFO \tProcessing timing data...\n",
      "req            INFO \tUsing cached data for car_data\n",
      "req            INFO \tUsing cached data for position_data\n",
      "req            INFO \tUsing cached data for weather_data\n",
      "req            INFO \tUsing cached data for race_control_messages\n",
      "core           INFO \tFinished loading data for 20 drivers: ['33', '77', '55', '11', '44', '4', '14', '31', '10', '3', '16', '99', '18', '5', '7', '63', '22', '6', '47', '9']\n"
     ]
    }
   ],
   "source": [
    "session = f1.get_session(2021, 'France Grand Prix', 'Q')\n",
    "session.load()"
   ]
  },
  {
   "cell_type": "code",
   "execution_count": 19,
   "metadata": {},
   "outputs": [
    {
     "data": {
      "text/html": [
       "<div>\n",
       "<style scoped>\n",
       "    .dataframe tbody tr th:only-of-type {\n",
       "        vertical-align: middle;\n",
       "    }\n",
       "\n",
       "    .dataframe tbody tr th {\n",
       "        vertical-align: top;\n",
       "    }\n",
       "\n",
       "    .dataframe thead th {\n",
       "        text-align: right;\n",
       "    }\n",
       "</style>\n",
       "<table border=\"1\" class=\"dataframe\">\n",
       "  <thead>\n",
       "    <tr style=\"text-align: right;\">\n",
       "      <th></th>\n",
       "      <th>DriverNumber</th>\n",
       "      <th>BroadcastName</th>\n",
       "      <th>Abbreviation</th>\n",
       "      <th>DriverId</th>\n",
       "      <th>TeamName</th>\n",
       "      <th>TeamColor</th>\n",
       "      <th>TeamId</th>\n",
       "      <th>FirstName</th>\n",
       "      <th>LastName</th>\n",
       "      <th>FullName</th>\n",
       "      <th>...</th>\n",
       "      <th>CountryCode</th>\n",
       "      <th>Position</th>\n",
       "      <th>ClassifiedPosition</th>\n",
       "      <th>GridPosition</th>\n",
       "      <th>Q1</th>\n",
       "      <th>Q2</th>\n",
       "      <th>Q3</th>\n",
       "      <th>Time</th>\n",
       "      <th>Status</th>\n",
       "      <th>Points</th>\n",
       "    </tr>\n",
       "  </thead>\n",
       "  <tbody>\n",
       "    <tr>\n",
       "      <th>33</th>\n",
       "      <td>33</td>\n",
       "      <td>M VERSTAPPEN</td>\n",
       "      <td>VER</td>\n",
       "      <td></td>\n",
       "      <td>Red Bull Racing</td>\n",
       "      <td>0600EF</td>\n",
       "      <td></td>\n",
       "      <td>Max</td>\n",
       "      <td>Verstappen</td>\n",
       "      <td>Max Verstappen</td>\n",
       "      <td>...</td>\n",
       "      <td></td>\n",
       "      <td>NaN</td>\n",
       "      <td></td>\n",
       "      <td>NaN</td>\n",
       "      <td>NaT</td>\n",
       "      <td>NaT</td>\n",
       "      <td>NaT</td>\n",
       "      <td>NaT</td>\n",
       "      <td></td>\n",
       "      <td>NaN</td>\n",
       "    </tr>\n",
       "    <tr>\n",
       "      <th>77</th>\n",
       "      <td>77</td>\n",
       "      <td>V BOTTAS</td>\n",
       "      <td>BOT</td>\n",
       "      <td></td>\n",
       "      <td>Mercedes</td>\n",
       "      <td>00D2BE</td>\n",
       "      <td></td>\n",
       "      <td>Valtteri</td>\n",
       "      <td>Bottas</td>\n",
       "      <td>Valtteri Bottas</td>\n",
       "      <td>...</td>\n",
       "      <td></td>\n",
       "      <td>NaN</td>\n",
       "      <td></td>\n",
       "      <td>NaN</td>\n",
       "      <td>NaT</td>\n",
       "      <td>NaT</td>\n",
       "      <td>NaT</td>\n",
       "      <td>NaT</td>\n",
       "      <td></td>\n",
       "      <td>NaN</td>\n",
       "    </tr>\n",
       "    <tr>\n",
       "      <th>55</th>\n",
       "      <td>55</td>\n",
       "      <td>C SAINZ</td>\n",
       "      <td>SAI</td>\n",
       "      <td></td>\n",
       "      <td>Ferrari</td>\n",
       "      <td>DC0004</td>\n",
       "      <td></td>\n",
       "      <td>Carlos</td>\n",
       "      <td>Sainz</td>\n",
       "      <td>Carlos Sainz</td>\n",
       "      <td>...</td>\n",
       "      <td></td>\n",
       "      <td>NaN</td>\n",
       "      <td></td>\n",
       "      <td>NaN</td>\n",
       "      <td>NaT</td>\n",
       "      <td>NaT</td>\n",
       "      <td>NaT</td>\n",
       "      <td>NaT</td>\n",
       "      <td></td>\n",
       "      <td>NaN</td>\n",
       "    </tr>\n",
       "    <tr>\n",
       "      <th>11</th>\n",
       "      <td>11</td>\n",
       "      <td>S PEREZ</td>\n",
       "      <td>PER</td>\n",
       "      <td></td>\n",
       "      <td>Red Bull Racing</td>\n",
       "      <td>0600EF</td>\n",
       "      <td></td>\n",
       "      <td>Sergio</td>\n",
       "      <td>Perez</td>\n",
       "      <td>Sergio Perez</td>\n",
       "      <td>...</td>\n",
       "      <td></td>\n",
       "      <td>NaN</td>\n",
       "      <td></td>\n",
       "      <td>NaN</td>\n",
       "      <td>NaT</td>\n",
       "      <td>NaT</td>\n",
       "      <td>NaT</td>\n",
       "      <td>NaT</td>\n",
       "      <td></td>\n",
       "      <td>NaN</td>\n",
       "    </tr>\n",
       "    <tr>\n",
       "      <th>44</th>\n",
       "      <td>44</td>\n",
       "      <td>L HAMILTON</td>\n",
       "      <td>HAM</td>\n",
       "      <td></td>\n",
       "      <td>Mercedes</td>\n",
       "      <td>00D2BE</td>\n",
       "      <td></td>\n",
       "      <td>Lewis</td>\n",
       "      <td>Hamilton</td>\n",
       "      <td>Lewis Hamilton</td>\n",
       "      <td>...</td>\n",
       "      <td></td>\n",
       "      <td>NaN</td>\n",
       "      <td></td>\n",
       "      <td>NaN</td>\n",
       "      <td>NaT</td>\n",
       "      <td>NaT</td>\n",
       "      <td>NaT</td>\n",
       "      <td>NaT</td>\n",
       "      <td></td>\n",
       "      <td>NaN</td>\n",
       "    </tr>\n",
       "  </tbody>\n",
       "</table>\n",
       "<p>5 rows × 21 columns</p>\n",
       "</div>"
      ],
      "text/plain": [
       "   DriverNumber BroadcastName Abbreviation DriverId         TeamName   \n",
       "33           33  M VERSTAPPEN          VER           Red Bull Racing  \\\n",
       "77           77      V BOTTAS          BOT                  Mercedes   \n",
       "55           55       C SAINZ          SAI                   Ferrari   \n",
       "11           11       S PEREZ          PER           Red Bull Racing   \n",
       "44           44    L HAMILTON          HAM                  Mercedes   \n",
       "\n",
       "   TeamColor TeamId FirstName    LastName         FullName  ... CountryCode   \n",
       "33    0600EF              Max  Verstappen   Max Verstappen  ...              \\\n",
       "77    00D2BE         Valtteri      Bottas  Valtteri Bottas  ...               \n",
       "55    DC0004           Carlos       Sainz     Carlos Sainz  ...               \n",
       "11    0600EF           Sergio       Perez     Sergio Perez  ...               \n",
       "44    00D2BE            Lewis    Hamilton   Lewis Hamilton  ...               \n",
       "\n",
       "   Position  ClassifiedPosition GridPosition  Q1  Q2  Q3 Time Status Points  \n",
       "33      NaN                              NaN NaT NaT NaT  NaT           NaN  \n",
       "77      NaN                              NaN NaT NaT NaT  NaT           NaN  \n",
       "55      NaN                              NaN NaT NaT NaT  NaT           NaN  \n",
       "11      NaN                              NaN NaT NaT NaT  NaT           NaN  \n",
       "44      NaN                              NaN NaT NaT NaT  NaT           NaN  \n",
       "\n",
       "[5 rows x 21 columns]"
      ]
     },
     "execution_count": 19,
     "metadata": {},
     "output_type": "execute_result"
    }
   ],
   "source": [
    "session.results.head()"
   ]
  },
  {
   "cell_type": "code",
   "execution_count": 20,
   "metadata": {},
   "outputs": [
    {
     "data": {
      "text/plain": [
       "Index(['DriverNumber', 'BroadcastName', 'Abbreviation', 'DriverId', 'TeamName',\n",
       "       'TeamColor', 'TeamId', 'FirstName', 'LastName', 'FullName',\n",
       "       'HeadshotUrl', 'CountryCode', 'Position', 'ClassifiedPosition',\n",
       "       'GridPosition', 'Q1', 'Q2', 'Q3', 'Time', 'Status', 'Points'],\n",
       "      dtype='object')"
      ]
     },
     "execution_count": 20,
     "metadata": {},
     "output_type": "execute_result"
    }
   ],
   "source": [
    "session.results.columns"
   ]
  },
  {
   "cell_type": "code",
   "execution_count": 21,
   "metadata": {},
   "outputs": [
    {
     "data": {
      "text/html": [
       "<div>\n",
       "<style scoped>\n",
       "    .dataframe tbody tr th:only-of-type {\n",
       "        vertical-align: middle;\n",
       "    }\n",
       "\n",
       "    .dataframe tbody tr th {\n",
       "        vertical-align: top;\n",
       "    }\n",
       "\n",
       "    .dataframe thead th {\n",
       "        text-align: right;\n",
       "    }\n",
       "</style>\n",
       "<table border=\"1\" class=\"dataframe\">\n",
       "  <thead>\n",
       "    <tr style=\"text-align: right;\">\n",
       "      <th></th>\n",
       "      <th>Abbreviation</th>\n",
       "      <th>Q3</th>\n",
       "    </tr>\n",
       "  </thead>\n",
       "  <tbody>\n",
       "    <tr>\n",
       "      <th>33</th>\n",
       "      <td>VER</td>\n",
       "      <td>NaT</td>\n",
       "    </tr>\n",
       "    <tr>\n",
       "      <th>77</th>\n",
       "      <td>BOT</td>\n",
       "      <td>NaT</td>\n",
       "    </tr>\n",
       "    <tr>\n",
       "      <th>55</th>\n",
       "      <td>SAI</td>\n",
       "      <td>NaT</td>\n",
       "    </tr>\n",
       "    <tr>\n",
       "      <th>11</th>\n",
       "      <td>PER</td>\n",
       "      <td>NaT</td>\n",
       "    </tr>\n",
       "    <tr>\n",
       "      <th>44</th>\n",
       "      <td>HAM</td>\n",
       "      <td>NaT</td>\n",
       "    </tr>\n",
       "    <tr>\n",
       "      <th>4</th>\n",
       "      <td>NOR</td>\n",
       "      <td>NaT</td>\n",
       "    </tr>\n",
       "    <tr>\n",
       "      <th>14</th>\n",
       "      <td>ALO</td>\n",
       "      <td>NaT</td>\n",
       "    </tr>\n",
       "    <tr>\n",
       "      <th>31</th>\n",
       "      <td>OCO</td>\n",
       "      <td>NaT</td>\n",
       "    </tr>\n",
       "    <tr>\n",
       "      <th>10</th>\n",
       "      <td>GAS</td>\n",
       "      <td>NaT</td>\n",
       "    </tr>\n",
       "    <tr>\n",
       "      <th>3</th>\n",
       "      <td>RIC</td>\n",
       "      <td>NaT</td>\n",
       "    </tr>\n",
       "  </tbody>\n",
       "</table>\n",
       "</div>"
      ],
      "text/plain": [
       "   Abbreviation  Q3\n",
       "33          VER NaT\n",
       "77          BOT NaT\n",
       "55          SAI NaT\n",
       "11          PER NaT\n",
       "44          HAM NaT\n",
       "4           NOR NaT\n",
       "14          ALO NaT\n",
       "31          OCO NaT\n",
       "10          GAS NaT\n",
       "3           RIC NaT"
      ]
     },
     "execution_count": 21,
     "metadata": {},
     "output_type": "execute_result"
    }
   ],
   "source": [
    "session.results.iloc[0:10].loc[:, ['Abbreviation', 'Q3']]"
   ]
  },
  {
   "cell_type": "code",
   "execution_count": 22,
   "metadata": {},
   "outputs": [
    {
     "name": "stderr",
     "output_type": "stream",
     "text": [
      "core           INFO \tLoading data for French Grand Prix - Qualifying [v3.0.3]\n",
      "req            INFO \tUsing cached data for driver_info\n",
      "logger      WARNING \tFailed to load result data from Ergast!\n",
      "core        WARNING \tNo result data for this session available on Ergast! (This is expected for recent sessions)\n",
      "req            INFO \tUsing cached data for session_status_data\n",
      "req            INFO \tUsing cached data for track_status_data\n",
      "req            INFO \tUsing cached data for timing_data\n",
      "req            INFO \tUsing cached data for timing_app_data\n",
      "core           INFO \tProcessing timing data...\n",
      "req            INFO \tUsing cached data for car_data\n",
      "req            INFO \tUsing cached data for position_data\n",
      "req            INFO \tUsing cached data for weather_data\n",
      "req            INFO \tUsing cached data for race_control_messages\n",
      "core           INFO \tFinished loading data for 20 drivers: ['33', '77', '55', '11', '44', '4', '14', '31', '10', '3', '16', '99', '18', '5', '7', '63', '22', '6', '47', '9']\n"
     ]
    }
   ],
   "source": [
    "session = f1.get_session(2021, 'French Grand Prix', 'Q')\n",
    "session.load()"
   ]
  },
  {
   "cell_type": "code",
   "execution_count": 23,
   "metadata": {},
   "outputs": [
    {
     "data": {
      "text/html": [
       "<div>\n",
       "<style scoped>\n",
       "    .dataframe tbody tr th:only-of-type {\n",
       "        vertical-align: middle;\n",
       "    }\n",
       "\n",
       "    .dataframe tbody tr th {\n",
       "        vertical-align: top;\n",
       "    }\n",
       "\n",
       "    .dataframe thead th {\n",
       "        text-align: right;\n",
       "    }\n",
       "</style>\n",
       "<table border=\"1\" class=\"dataframe\">\n",
       "  <thead>\n",
       "    <tr style=\"text-align: right;\">\n",
       "      <th></th>\n",
       "      <th>Time</th>\n",
       "      <th>Driver</th>\n",
       "      <th>DriverNumber</th>\n",
       "      <th>LapTime</th>\n",
       "      <th>LapNumber</th>\n",
       "      <th>Stint</th>\n",
       "      <th>PitOutTime</th>\n",
       "      <th>PitInTime</th>\n",
       "      <th>Sector1Time</th>\n",
       "      <th>Sector2Time</th>\n",
       "      <th>...</th>\n",
       "      <th>FreshTyre</th>\n",
       "      <th>Team</th>\n",
       "      <th>LapStartTime</th>\n",
       "      <th>LapStartDate</th>\n",
       "      <th>TrackStatus</th>\n",
       "      <th>Position</th>\n",
       "      <th>Deleted</th>\n",
       "      <th>DeletedReason</th>\n",
       "      <th>FastF1Generated</th>\n",
       "      <th>IsAccurate</th>\n",
       "    </tr>\n",
       "  </thead>\n",
       "  <tbody>\n",
       "    <tr>\n",
       "      <th>0</th>\n",
       "      <td>0 days 00:17:35.479000</td>\n",
       "      <td>GAS</td>\n",
       "      <td>10</td>\n",
       "      <td>NaT</td>\n",
       "      <td>1.0</td>\n",
       "      <td>1.0</td>\n",
       "      <td>0 days 00:14:47.810000</td>\n",
       "      <td>NaT</td>\n",
       "      <td>0 days 00:00:48.895000</td>\n",
       "      <td>0 days 00:00:46.957000</td>\n",
       "      <td>...</td>\n",
       "      <td>True</td>\n",
       "      <td>AlphaTauri</td>\n",
       "      <td>0 days 00:14:47.810000</td>\n",
       "      <td>2021-06-19 13:00:15.013</td>\n",
       "      <td>1</td>\n",
       "      <td>NaN</td>\n",
       "      <td>False</td>\n",
       "      <td></td>\n",
       "      <td>False</td>\n",
       "      <td>False</td>\n",
       "    </tr>\n",
       "    <tr>\n",
       "      <th>1</th>\n",
       "      <td>0 days 00:27:42.702000</td>\n",
       "      <td>GAS</td>\n",
       "      <td>10</td>\n",
       "      <td>NaT</td>\n",
       "      <td>2.0</td>\n",
       "      <td>1.0</td>\n",
       "      <td>NaT</td>\n",
       "      <td>0 days 00:19:40.614000</td>\n",
       "      <td>0 days 00:00:23.040000</td>\n",
       "      <td>NaT</td>\n",
       "      <td>...</td>\n",
       "      <td>True</td>\n",
       "      <td>AlphaTauri</td>\n",
       "      <td>0 days 00:17:35.479000</td>\n",
       "      <td>2021-06-19 13:03:02.682</td>\n",
       "      <td>25</td>\n",
       "      <td>NaN</td>\n",
       "      <td>False</td>\n",
       "      <td></td>\n",
       "      <td>False</td>\n",
       "      <td>False</td>\n",
       "    </tr>\n",
       "    <tr>\n",
       "      <th>2</th>\n",
       "      <td>0 days 00:30:15.038000</td>\n",
       "      <td>GAS</td>\n",
       "      <td>10</td>\n",
       "      <td>NaT</td>\n",
       "      <td>3.0</td>\n",
       "      <td>2.0</td>\n",
       "      <td>0 days 00:27:42.702000</td>\n",
       "      <td>NaT</td>\n",
       "      <td>0 days 00:00:43.813000</td>\n",
       "      <td>0 days 00:00:40.047000</td>\n",
       "      <td>...</td>\n",
       "      <td>False</td>\n",
       "      <td>AlphaTauri</td>\n",
       "      <td>0 days 00:27:42.702000</td>\n",
       "      <td>2021-06-19 13:13:09.905</td>\n",
       "      <td>1</td>\n",
       "      <td>NaN</td>\n",
       "      <td>False</td>\n",
       "      <td></td>\n",
       "      <td>False</td>\n",
       "      <td>False</td>\n",
       "    </tr>\n",
       "    <tr>\n",
       "      <th>3</th>\n",
       "      <td>0 days 00:31:46.936000</td>\n",
       "      <td>GAS</td>\n",
       "      <td>10</td>\n",
       "      <td>0 days 00:01:31.898000</td>\n",
       "      <td>4.0</td>\n",
       "      <td>2.0</td>\n",
       "      <td>NaT</td>\n",
       "      <td>NaT</td>\n",
       "      <td>0 days 00:00:22.843000</td>\n",
       "      <td>0 days 00:00:27.881000</td>\n",
       "      <td>...</td>\n",
       "      <td>False</td>\n",
       "      <td>AlphaTauri</td>\n",
       "      <td>0 days 00:30:15.038000</td>\n",
       "      <td>2021-06-19 13:15:42.241</td>\n",
       "      <td>1</td>\n",
       "      <td>NaN</td>\n",
       "      <td>False</td>\n",
       "      <td></td>\n",
       "      <td>False</td>\n",
       "      <td>True</td>\n",
       "    </tr>\n",
       "    <tr>\n",
       "      <th>4</th>\n",
       "      <td>0 days 00:34:20.695000</td>\n",
       "      <td>GAS</td>\n",
       "      <td>10</td>\n",
       "      <td>NaT</td>\n",
       "      <td>5.0</td>\n",
       "      <td>2.0</td>\n",
       "      <td>NaT</td>\n",
       "      <td>NaT</td>\n",
       "      <td>0 days 00:00:37.442000</td>\n",
       "      <td>0 days 00:00:47.382000</td>\n",
       "      <td>...</td>\n",
       "      <td>False</td>\n",
       "      <td>AlphaTauri</td>\n",
       "      <td>0 days 00:31:46.936000</td>\n",
       "      <td>2021-06-19 13:17:14.139</td>\n",
       "      <td>1</td>\n",
       "      <td>NaN</td>\n",
       "      <td>False</td>\n",
       "      <td></td>\n",
       "      <td>False</td>\n",
       "      <td>False</td>\n",
       "    </tr>\n",
       "  </tbody>\n",
       "</table>\n",
       "<p>5 rows × 31 columns</p>\n",
       "</div>"
      ],
      "text/plain": [
       "                    Time Driver DriverNumber                LapTime   \n",
       "0 0 days 00:17:35.479000    GAS           10                    NaT  \\\n",
       "1 0 days 00:27:42.702000    GAS           10                    NaT   \n",
       "2 0 days 00:30:15.038000    GAS           10                    NaT   \n",
       "3 0 days 00:31:46.936000    GAS           10 0 days 00:01:31.898000   \n",
       "4 0 days 00:34:20.695000    GAS           10                    NaT   \n",
       "\n",
       "   LapNumber  Stint             PitOutTime              PitInTime   \n",
       "0        1.0    1.0 0 days 00:14:47.810000                    NaT  \\\n",
       "1        2.0    1.0                    NaT 0 days 00:19:40.614000   \n",
       "2        3.0    2.0 0 days 00:27:42.702000                    NaT   \n",
       "3        4.0    2.0                    NaT                    NaT   \n",
       "4        5.0    2.0                    NaT                    NaT   \n",
       "\n",
       "             Sector1Time            Sector2Time  ... FreshTyre        Team   \n",
       "0 0 days 00:00:48.895000 0 days 00:00:46.957000  ...      True  AlphaTauri  \\\n",
       "1 0 days 00:00:23.040000                    NaT  ...      True  AlphaTauri   \n",
       "2 0 days 00:00:43.813000 0 days 00:00:40.047000  ...     False  AlphaTauri   \n",
       "3 0 days 00:00:22.843000 0 days 00:00:27.881000  ...     False  AlphaTauri   \n",
       "4 0 days 00:00:37.442000 0 days 00:00:47.382000  ...     False  AlphaTauri   \n",
       "\n",
       "            LapStartTime            LapStartDate  TrackStatus  Position   \n",
       "0 0 days 00:14:47.810000 2021-06-19 13:00:15.013            1       NaN  \\\n",
       "1 0 days 00:17:35.479000 2021-06-19 13:03:02.682           25       NaN   \n",
       "2 0 days 00:27:42.702000 2021-06-19 13:13:09.905            1       NaN   \n",
       "3 0 days 00:30:15.038000 2021-06-19 13:15:42.241            1       NaN   \n",
       "4 0 days 00:31:46.936000 2021-06-19 13:17:14.139            1       NaN   \n",
       "\n",
       "   Deleted  DeletedReason FastF1Generated IsAccurate  \n",
       "0    False                          False      False  \n",
       "1    False                          False      False  \n",
       "2    False                          False      False  \n",
       "3    False                          False       True  \n",
       "4    False                          False      False  \n",
       "\n",
       "[5 rows x 31 columns]"
      ]
     },
     "execution_count": 23,
     "metadata": {},
     "output_type": "execute_result"
    }
   ],
   "source": [
    "session.laps.head()"
   ]
  },
  {
   "cell_type": "code",
   "execution_count": 24,
   "metadata": {},
   "outputs": [
    {
     "data": {
      "text/plain": [
       "Index(['Time', 'Driver', 'DriverNumber', 'LapTime', 'LapNumber', 'Stint',\n",
       "       'PitOutTime', 'PitInTime', 'Sector1Time', 'Sector2Time', 'Sector3Time',\n",
       "       'Sector1SessionTime', 'Sector2SessionTime', 'Sector3SessionTime',\n",
       "       'SpeedI1', 'SpeedI2', 'SpeedFL', 'SpeedST', 'IsPersonalBest',\n",
       "       'Compound', 'TyreLife', 'FreshTyre', 'Team', 'LapStartTime',\n",
       "       'LapStartDate', 'TrackStatus', 'Position', 'Deleted', 'DeletedReason',\n",
       "       'FastF1Generated', 'IsAccurate'],\n",
       "      dtype='object')"
      ]
     },
     "execution_count": 24,
     "metadata": {},
     "output_type": "execute_result"
    }
   ],
   "source": [
    "session.laps.columns"
   ]
  },
  {
   "cell_type": "code",
   "execution_count": 25,
   "metadata": {},
   "outputs": [
    {
     "data": {
      "text/plain": [
       "Timedelta('0 days 00:01:29.990000')"
      ]
     },
     "execution_count": 25,
     "metadata": {},
     "output_type": "execute_result"
    }
   ],
   "source": [
    "fastest_lap = session.laps.pick_fastest()\n",
    "fastest_lap['LapTime']"
   ]
  },
  {
   "cell_type": "code",
   "execution_count": 26,
   "metadata": {},
   "outputs": [
    {
     "data": {
      "text/plain": [
       "'VER'"
      ]
     },
     "execution_count": 26,
     "metadata": {},
     "output_type": "execute_result"
    }
   ],
   "source": [
    "fastest_lap['Driver']"
   ]
  },
  {
   "cell_type": "code",
   "execution_count": 27,
   "metadata": {},
   "outputs": [
    {
     "name": "stderr",
     "output_type": "stream",
     "text": [
      "core           INFO \tLoading data for Spanish Grand Prix - Qualifying [v3.0.3]\n",
      "req            INFO \tUsing cached data for driver_info\n",
      "logger      WARNING \tFailed to load result data from Ergast!\n",
      "core        WARNING \tNo result data for this session available on Ergast! (This is expected for recent sessions)\n",
      "req            INFO \tUsing cached data for session_status_data\n",
      "req            INFO \tUsing cached data for track_status_data\n",
      "req            INFO \tUsing cached data for timing_data\n",
      "req            INFO \tUsing cached data for timing_app_data\n",
      "core           INFO \tProcessing timing data...\n",
      "req            INFO \tUsing cached data for car_data\n",
      "req            INFO \tUsing cached data for position_data\n",
      "req            INFO \tUsing cached data for weather_data\n",
      "req            INFO \tUsing cached data for race_control_messages\n",
      "core           INFO \tFinished loading data for 20 drivers: ['33', '44', '16', '55', '77', '4', '10', '3', '7', '11', '14', '22', '31', '18', '63', '99', '5', '6', '47', '9']\n"
     ]
    }
   ],
   "source": [
    "# we only want support for timedelta plotting in this example\n",
    "fastf1.plotting.setup_mpl(mpl_timedelta_support=True, color_scheme=None, misc_mpl_mods=False)\n",
    "\n",
    "session = fastf1.get_session(2021, 'Spanish Grand Prix', 'Q')\n",
    "session.load()"
   ]
  },
  {
   "cell_type": "code",
   "execution_count": 28,
   "metadata": {},
   "outputs": [
    {
     "name": "stdout",
     "output_type": "stream",
     "text": [
      "['VER' 'HAM' 'LEC' 'SAI' 'BOT' 'NOR' 'GAS' 'RIC' 'RAI' 'PER' 'ALO' 'TSU'\n",
      " 'OCO' 'STR' 'RUS' 'GIO' 'VET' 'LAT' 'MSC' 'MAZ']\n"
     ]
    }
   ],
   "source": [
    "drivers = pd.unique(session.laps['Driver'])\n",
    "print(drivers)"
   ]
  },
  {
   "cell_type": "code",
   "execution_count": 29,
   "metadata": {},
   "outputs": [],
   "source": [
    "list_fastest_laps = list()\n",
    "\n",
    "for drv in drivers:\n",
    "    drvs_fastest_lap = session.laps.pick_driver(drv).pick_fastest()\n",
    "    list_fastest_laps.append(drvs_fastest_lap)\n",
    "fastest_laps = Laps(list_fastest_laps).sort_values(by='LapTime').reset_index(drop=True)"
   ]
  },
  {
   "cell_type": "code",
   "execution_count": 30,
   "metadata": {},
   "outputs": [],
   "source": [
    "pole_lap = fastest_laps.pick_fastest()\n",
    "fastest_laps['LapTimeDelta'] = fastest_laps['LapTime'] - pole_lap['LapTime']"
   ]
  },
  {
   "cell_type": "code",
   "execution_count": 31,
   "metadata": {},
   "outputs": [
    {
     "name": "stdout",
     "output_type": "stream",
     "text": [
      "   Driver                LapTime           LapTimeDelta\n",
      "0     HAM 0 days 00:01:16.741000        0 days 00:00:00\n",
      "1     VER 0 days 00:01:16.777000 0 days 00:00:00.036000\n",
      "2     BOT 0 days 00:01:16.873000 0 days 00:00:00.132000\n",
      "3     LEC 0 days 00:01:17.510000 0 days 00:00:00.769000\n",
      "4     OCO 0 days 00:01:17.580000 0 days 00:00:00.839000\n",
      "5     SAI 0 days 00:01:17.620000 0 days 00:00:00.879000\n",
      "6     RIC 0 days 00:01:17.622000 0 days 00:00:00.881000\n",
      "7     PER 0 days 00:01:17.701000 0 days 00:00:00.960000\n",
      "8     STR 0 days 00:01:17.974000 0 days 00:00:01.233000\n",
      "9     GAS 0 days 00:01:17.982000 0 days 00:00:01.241000\n",
      "10    NOR 0 days 00:01:18.010000 0 days 00:00:01.269000\n",
      "11    VET 0 days 00:01:18.079000 0 days 00:00:01.338000\n",
      "12    ALO 0 days 00:01:18.147000 0 days 00:00:01.406000\n",
      "13    GIO 0 days 00:01:18.356000 0 days 00:00:01.615000\n",
      "14    TSU 0 days 00:01:18.556000 0 days 00:00:01.815000\n",
      "15    RAI 0 days 00:01:18.917000 0 days 00:00:02.176000\n",
      "16    MSC 0 days 00:01:19.117000 0 days 00:00:02.376000\n",
      "17    RUS 0 days 00:01:19.154000 0 days 00:00:02.413000\n",
      "18    LAT 0 days 00:01:19.219000 0 days 00:00:02.478000\n",
      "19    MAZ 0 days 00:01:19.807000 0 days 00:00:03.066000\n"
     ]
    }
   ],
   "source": [
    "print(fastest_laps[['Driver', 'LapTime', 'LapTimeDelta']])"
   ]
  },
  {
   "cell_type": "code",
   "execution_count": 32,
   "metadata": {},
   "outputs": [],
   "source": [
    "team_colors = list()\n",
    "\n",
    "for index, lap in fastest_laps.iterlaps():\n",
    "    color = fastf1.plotting.team_color(lap['Team'])\n",
    "    team_colors.append(color)"
   ]
  },
  {
   "cell_type": "code",
   "execution_count": 33,
   "metadata": {},
   "outputs": [
    {
     "data": {
      "image/png": "[encoded data removed]",
      "text/plain": [
       "<Figure size 640x480 with 1 Axes>"
      ]
     },
     "metadata": {},
     "output_type": "display_data"
    }
   ],
   "source": [
    "fig, ax = plt.subplots()\n",
    "ax.barh(fastest_laps.index, fastest_laps['LapTimeDelta'],\n",
    "        color=team_colors, edgecolor='grey')\n",
    "ax.set_yticks(fastest_laps.index)\n",
    "ax.set_yticklabels(fastest_laps['Driver'])\n",
    "\n",
    "# show fastest at the top\n",
    "ax.invert_yaxis()\n",
    "\n",
    "# draw vertical lines behind the bars\n",
    "ax.set_axisbelow(True)\n",
    "ax.xaxis.grid(True, which='major', linestyle='--', color='black', zorder=-1000)\n",
    "\n",
    "lap_time_string = strftimedelta(pole_lap['LapTime'], '%m:%s.%ms')\n",
    "\n",
    "plt.suptitle(f\"{session.event['EventName']} {session.event.year} Qualifying\\n\"\n",
    "             f\"Fastest Lap: {lap_time_string} ({pole_lap['Driver']})\")\n",
    "\n",
    "plt.show(); "
   ]
  },
  {
   "cell_type": "code",
   "execution_count": 34,
   "metadata": {},
   "outputs": [],
   "source": [
    "fastf1.plotting.setup_mpl(misc_mpl_mods=False)"
   ]
  },
  {
   "cell_type": "code",
   "execution_count": 35,
   "metadata": {},
   "outputs": [
    {
     "name": "stderr",
     "output_type": "stream",
     "text": [
      "core           INFO \tLoading data for Bahrain Grand Prix - Race [v3.0.3]\n",
      "req            INFO \tUsing cached data for driver_info\n",
      "logger      WARNING \tFailed to load result data from Ergast!\n",
      "core        WARNING \tNo result data for this session available on Ergast! (This is expected for recent sessions)\n",
      "req            INFO \tUsing cached data for session_status_data\n",
      "req            INFO \tUsing cached data for lap_count\n",
      "req            INFO \tUsing cached data for track_status_data\n",
      "req            INFO \tUsing cached data for timing_data\n",
      "req            INFO \tUsing cached data for timing_app_data\n",
      "core           INFO \tProcessing timing data...\n",
      "logger      WARNING \tFailed to add first lap time from Ergast!\n",
      "req            INFO \tUsing cached data for race_control_messages\n",
      "core           INFO \tFinished loading data for 20 drivers: ['1', '11', '16', '55', '14', '63', '44', '18', '31', '27', '4', '77', '24', '22', '23', '2', '20', '81', '21', '10']\n"
     ]
    },
    {
     "data": {
      "image/png": "[encoded data removed]",
      "text/plain": [
       "<Figure size 800x490 with 1 Axes>"
      ]
     },
     "metadata": {},
     "output_type": "display_data"
    }
   ],
   "source": [
    "session = fastf1.get_session(2023, 1, 'R')\n",
    "session.load(telemetry=False, weather=False)\n",
    "\n",
    "fig, ax = plt.subplots(figsize=(8.0, 4.9))\n",
    "\n",
    "for drv in session.drivers:\n",
    "    drv_laps = session.laps.pick_driver(drv)\n",
    "\n",
    "    abb = drv_laps['Driver'].iloc[0]\n",
    "    color = fastf1.plotting.driver_color(abb)\n",
    "\n",
    "    ax.plot(drv_laps['LapNumber'], drv_laps['Position'],\n",
    "            label=abb, color=color)\n",
    "    \n",
    "ax.set_ylim([20.5, 0.5])\n",
    "ax.set_yticks([1, 5, 10, 15, 20])\n",
    "ax.set_xlabel('Lap')\n",
    "ax.set_ylabel('Position')\n",
    "\n",
    "ax.legend(bbox_to_anchor=(1.0, 1.02))\n",
    "plt.tight_layout()\n",
    "\n",
    "plt.show(); "
   ]
  },
  {
   "cell_type": "code",
   "execution_count": 36,
   "metadata": {},
   "outputs": [
    {
     "data": {
      "text/plain": [
       "RoundNumber                                                   1\n",
       "Country                                                 Bahrain\n",
       "Location                                                 Sakhir\n",
       "OfficialEventName    FORMULA 1 GULF AIR BAHRAIN GRAND PRIX 2021\n",
       "EventDate                                   2021-03-28 00:00:00\n",
       "EventName                                    Bahrain Grand Prix\n",
       "EventFormat                                        conventional\n",
       "Session1                                             Practice 1\n",
       "Session1Date                          2021-03-26 14:30:00+03:00\n",
       "Session1DateUtc                             2021-03-26 11:30:00\n",
       "Session2                                             Practice 2\n",
       "Session2Date                          2021-03-26 18:00:00+03:00\n",
       "Session2DateUtc                             2021-03-26 15:00:00\n",
       "Session3                                             Practice 3\n",
       "Session3Date                          2021-03-27 15:00:00+03:00\n",
       "Session3DateUtc                             2021-03-27 12:00:00\n",
       "Session4                                             Qualifying\n",
       "Session4Date                          2021-03-27 18:00:00+03:00\n",
       "Session4DateUtc                             2021-03-27 15:00:00\n",
       "Session5                                                   Race\n",
       "Session5Date                          2021-03-28 18:00:00+03:00\n",
       "Session5DateUtc                             2021-03-28 15:00:00\n",
       "F1ApiSupport                                               True\n",
       "Name: 1, dtype: object"
      ]
     },
     "execution_count": 36,
     "metadata": {},
     "output_type": "execute_result"
    }
   ],
   "source": [
    "event = f1.get_event(2021, 1)\n",
    "event"
   ]
  },
  {
   "cell_type": "code",
   "execution_count": 37,
   "metadata": {},
   "outputs": [
    {
     "data": {
      "text/html": [
       "<div>\n",
       "<style scoped>\n",
       "    .dataframe tbody tr th:only-of-type {\n",
       "        vertical-align: middle;\n",
       "    }\n",
       "\n",
       "    .dataframe tbody tr th {\n",
       "        vertical-align: top;\n",
       "    }\n",
       "\n",
       "    .dataframe thead th {\n",
       "        text-align: right;\n",
       "    }\n",
       "</style>\n",
       "<table border=\"1\" class=\"dataframe\">\n",
       "  <thead>\n",
       "    <tr style=\"text-align: right;\">\n",
       "      <th></th>\n",
       "      <th>RoundNumber</th>\n",
       "      <th>Country</th>\n",
       "      <th>Location</th>\n",
       "      <th>OfficialEventName</th>\n",
       "      <th>EventDate</th>\n",
       "      <th>EventName</th>\n",
       "      <th>EventFormat</th>\n",
       "      <th>Session1</th>\n",
       "      <th>Session1Date</th>\n",
       "      <th>Session1DateUtc</th>\n",
       "      <th>...</th>\n",
       "      <th>Session3</th>\n",
       "      <th>Session3Date</th>\n",
       "      <th>Session3DateUtc</th>\n",
       "      <th>Session4</th>\n",
       "      <th>Session4Date</th>\n",
       "      <th>Session4DateUtc</th>\n",
       "      <th>Session5</th>\n",
       "      <th>Session5Date</th>\n",
       "      <th>Session5DateUtc</th>\n",
       "      <th>F1ApiSupport</th>\n",
       "    </tr>\n",
       "  </thead>\n",
       "  <tbody>\n",
       "    <tr>\n",
       "      <th>0</th>\n",
       "      <td>0</td>\n",
       "      <td>Bahrain</td>\n",
       "      <td>Sakhir</td>\n",
       "      <td>FORMULA 1 ARAMCO PRE-SEASON TESTING 2023</td>\n",
       "      <td>2023-02-25</td>\n",
       "      <td>Pre-Season Testing</td>\n",
       "      <td>testing</td>\n",
       "      <td>Practice 1</td>\n",
       "      <td>2023-02-23 10:00:00+03:00</td>\n",
       "      <td>2023-02-23 07:00:00</td>\n",
       "      <td>...</td>\n",
       "      <td>Practice 3</td>\n",
       "      <td>2023-02-25 10:00:00+03:00</td>\n",
       "      <td>2023-02-25 07:00:00</td>\n",
       "      <td>None</td>\n",
       "      <td>NaT</td>\n",
       "      <td>NaT</td>\n",
       "      <td>None</td>\n",
       "      <td>NaT</td>\n",
       "      <td>NaT</td>\n",
       "      <td>True</td>\n",
       "    </tr>\n",
       "    <tr>\n",
       "      <th>1</th>\n",
       "      <td>1</td>\n",
       "      <td>Bahrain</td>\n",
       "      <td>Sakhir</td>\n",
       "      <td>FORMULA 1 GULF AIR BAHRAIN GRAND PRIX 2023</td>\n",
       "      <td>2023-03-05</td>\n",
       "      <td>Bahrain Grand Prix</td>\n",
       "      <td>conventional</td>\n",
       "      <td>Practice 1</td>\n",
       "      <td>2023-03-03 14:30:00+03:00</td>\n",
       "      <td>2023-03-03 11:30:00</td>\n",
       "      <td>...</td>\n",
       "      <td>Practice 3</td>\n",
       "      <td>2023-03-04 14:30:00+03:00</td>\n",
       "      <td>2023-03-04 11:30:00</td>\n",
       "      <td>Qualifying</td>\n",
       "      <td>2023-03-04 18:00:00+03:00</td>\n",
       "      <td>2023-03-04 15:00:00</td>\n",
       "      <td>Race</td>\n",
       "      <td>2023-03-05 18:00:00+03:00</td>\n",
       "      <td>2023-03-05 15:00:00</td>\n",
       "      <td>True</td>\n",
       "    </tr>\n",
       "    <tr>\n",
       "      <th>2</th>\n",
       "      <td>2</td>\n",
       "      <td>Saudi Arabia</td>\n",
       "      <td>Jeddah</td>\n",
       "      <td>FORMULA 1 STC SAUDI ARABIAN GRAND PRIX 2023</td>\n",
       "      <td>2023-03-19</td>\n",
       "      <td>Saudi Arabian Grand Prix</td>\n",
       "      <td>conventional</td>\n",
       "      <td>Practice 1</td>\n",
       "      <td>2023-03-17 16:30:00+03:00</td>\n",
       "      <td>2023-03-17 13:30:00</td>\n",
       "      <td>...</td>\n",
       "      <td>Practice 3</td>\n",
       "      <td>2023-03-18 16:30:00+03:00</td>\n",
       "      <td>2023-03-18 13:30:00</td>\n",
       "      <td>Qualifying</td>\n",
       "      <td>2023-03-18 20:00:00+03:00</td>\n",
       "      <td>2023-03-18 17:00:00</td>\n",
       "      <td>Race</td>\n",
       "      <td>2023-03-19 20:00:00+03:00</td>\n",
       "      <td>2023-03-19 17:00:00</td>\n",
       "      <td>True</td>\n",
       "    </tr>\n",
       "    <tr>\n",
       "      <th>3</th>\n",
       "      <td>3</td>\n",
       "      <td>Australia</td>\n",
       "      <td>Melbourne</td>\n",
       "      <td>FORMULA 1 ROLEX AUSTRALIAN GRAND PRIX 2023</td>\n",
       "      <td>2023-04-02</td>\n",
       "      <td>Australian Grand Prix</td>\n",
       "      <td>conventional</td>\n",
       "      <td>Practice 1</td>\n",
       "      <td>2023-03-31 12:30:00+10:00</td>\n",
       "      <td>2023-03-31 02:30:00</td>\n",
       "      <td>...</td>\n",
       "      <td>Practice 3</td>\n",
       "      <td>2023-04-01 12:30:00+10:00</td>\n",
       "      <td>2023-04-01 02:30:00</td>\n",
       "      <td>Qualifying</td>\n",
       "      <td>2023-04-01 16:00:00+10:00</td>\n",
       "      <td>2023-04-01 06:00:00</td>\n",
       "      <td>Race</td>\n",
       "      <td>2023-04-02 15:00:00+10:00</td>\n",
       "      <td>2023-04-02 05:00:00</td>\n",
       "      <td>True</td>\n",
       "    </tr>\n",
       "    <tr>\n",
       "      <th>4</th>\n",
       "      <td>4</td>\n",
       "      <td>Azerbaijan</td>\n",
       "      <td>Baku</td>\n",
       "      <td>FORMULA 1 AZERBAIJAN GRAND PRIX 2023</td>\n",
       "      <td>2023-04-30</td>\n",
       "      <td>Azerbaijan Grand Prix</td>\n",
       "      <td>sprint_shootout</td>\n",
       "      <td>Practice 1</td>\n",
       "      <td>2023-04-28 13:30:00+04:00</td>\n",
       "      <td>2023-04-28 09:30:00</td>\n",
       "      <td>...</td>\n",
       "      <td>Sprint Shootout</td>\n",
       "      <td>2023-04-29 12:30:00+04:00</td>\n",
       "      <td>2023-04-29 08:30:00</td>\n",
       "      <td>Sprint</td>\n",
       "      <td>2023-04-29 17:30:00+04:00</td>\n",
       "      <td>2023-04-29 13:30:00</td>\n",
       "      <td>Race</td>\n",
       "      <td>2023-04-30 15:00:00+04:00</td>\n",
       "      <td>2023-04-30 11:00:00</td>\n",
       "      <td>True</td>\n",
       "    </tr>\n",
       "  </tbody>\n",
       "</table>\n",
       "<p>5 rows × 23 columns</p>\n",
       "</div>"
      ],
      "text/plain": [
       "   RoundNumber       Country   Location   \n",
       "0            0       Bahrain     Sakhir  \\\n",
       "1            1       Bahrain     Sakhir   \n",
       "2            2  Saudi Arabia     Jeddah   \n",
       "3            3     Australia  Melbourne   \n",
       "4            4    Azerbaijan       Baku   \n",
       "\n",
       "                             OfficialEventName  EventDate   \n",
       "0     FORMULA 1 ARAMCO PRE-SEASON TESTING 2023 2023-02-25  \\\n",
       "1   FORMULA 1 GULF AIR BAHRAIN GRAND PRIX 2023 2023-03-05   \n",
       "2  FORMULA 1 STC SAUDI ARABIAN GRAND PRIX 2023 2023-03-19   \n",
       "3   FORMULA 1 ROLEX AUSTRALIAN GRAND PRIX 2023 2023-04-02   \n",
       "4         FORMULA 1 AZERBAIJAN GRAND PRIX 2023 2023-04-30   \n",
       "\n",
       "                  EventName      EventFormat    Session1   \n",
       "0        Pre-Season Testing          testing  Practice 1  \\\n",
       "1        Bahrain Grand Prix     conventional  Practice 1   \n",
       "2  Saudi Arabian Grand Prix     conventional  Practice 1   \n",
       "3     Australian Grand Prix     conventional  Practice 1   \n",
       "4     Azerbaijan Grand Prix  sprint_shootout  Practice 1   \n",
       "\n",
       "                Session1Date     Session1DateUtc  ...         Session3   \n",
       "0  2023-02-23 10:00:00+03:00 2023-02-23 07:00:00  ...       Practice 3  \\\n",
       "1  2023-03-03 14:30:00+03:00 2023-03-03 11:30:00  ...       Practice 3   \n",
       "2  2023-03-17 16:30:00+03:00 2023-03-17 13:30:00  ...       Practice 3   \n",
       "3  2023-03-31 12:30:00+10:00 2023-03-31 02:30:00  ...       Practice 3   \n",
       "4  2023-04-28 13:30:00+04:00 2023-04-28 09:30:00  ...  Sprint Shootout   \n",
       "\n",
       "                Session3Date     Session3DateUtc    Session4   \n",
       "0  2023-02-25 10:00:00+03:00 2023-02-25 07:00:00        None  \\\n",
       "1  2023-03-04 14:30:00+03:00 2023-03-04 11:30:00  Qualifying   \n",
       "2  2023-03-18 16:30:00+03:00 2023-03-18 13:30:00  Qualifying   \n",
       "3  2023-04-01 12:30:00+10:00 2023-04-01 02:30:00  Qualifying   \n",
       "4  2023-04-29 12:30:00+04:00 2023-04-29 08:30:00      Sprint   \n",
       "\n",
       "                Session4Date     Session4DateUtc Session5   \n",
       "0                        NaT                 NaT     None  \\\n",
       "1  2023-03-04 18:00:00+03:00 2023-03-04 15:00:00     Race   \n",
       "2  2023-03-18 20:00:00+03:00 2023-03-18 17:00:00     Race   \n",
       "3  2023-04-01 16:00:00+10:00 2023-04-01 06:00:00     Race   \n",
       "4  2023-04-29 17:30:00+04:00 2023-04-29 13:30:00     Race   \n",
       "\n",
       "                Session5Date     Session5DateUtc F1ApiSupport  \n",
       "0                        NaT                 NaT         True  \n",
       "1  2023-03-05 18:00:00+03:00 2023-03-05 15:00:00         True  \n",
       "2  2023-03-19 20:00:00+03:00 2023-03-19 17:00:00         True  \n",
       "3  2023-04-02 15:00:00+10:00 2023-04-02 05:00:00         True  \n",
       "4  2023-04-30 15:00:00+04:00 2023-04-30 11:00:00         True  \n",
       "\n",
       "[5 rows x 23 columns]"
      ]
     },
     "execution_count": 37,
     "metadata": {},
     "output_type": "execute_result"
    }
   ],
   "source": [
    "schedule = fastf1.get_event_schedule(2023)\n",
    "schedule.head()"
   ]
  },
  {
   "cell_type": "code",
   "execution_count": 38,
   "metadata": {},
   "outputs": [
    {
     "name": "stderr",
     "output_type": "stream",
     "text": [
      "core           INFO \tLoading data for Spanish Grand Prix - Race [v3.0.3]\n",
      "req            INFO \tUsing cached data for driver_info\n",
      "logger      WARNING \tFailed to load result data from Ergast!\n",
      "core        WARNING \tNo result data for this session available on Ergast! (This is expected for recent sessions)\n",
      "req            INFO \tUsing cached data for session_status_data\n",
      "req            INFO \tUsing cached data for lap_count\n",
      "req            INFO \tUsing cached data for track_status_data\n",
      "req            INFO \tUsing cached data for timing_data\n",
      "req            INFO \tUsing cached data for timing_app_data\n",
      "core           INFO \tProcessing timing data...\n",
      "logger      WARNING \tFailed to add first lap time from Ergast!\n",
      "req            INFO \tUsing cached data for car_data\n",
      "req            INFO \tUsing cached data for position_data\n",
      "req            INFO \tUsing cached data for weather_data\n",
      "req            INFO \tUsing cached data for race_control_messages\n",
      "core           INFO \tFinished loading data for 20 drivers: ['44', '33', '77', '16', '31', '55', '3', '11', '4', '14', '18', '10', '5', '99', '63', '22', '7', '47', '6', '9']\n"
     ]
    }
   ],
   "source": [
    "session = f1.get_session(2021, 'Spanish Grand Prix', 'R')\n",
    "session.load()"
   ]
  },
  {
   "cell_type": "code",
   "execution_count": 39,
   "metadata": {},
   "outputs": [
    {
     "name": "stdout",
     "output_type": "stream",
     "text": [
      "Help on Session in module fastf1.core object:\n",
      "\n",
      "class Session(builtins.object)\n",
      " |  Session(event, session_name, f1_api_support=False)\n",
      " |  \n",
      " |  Object for accessing session specific data.\n",
      " |  \n",
      " |  The session class will usually be your starting point. This object will\n",
      " |  have various information about the session.\n",
      " |  \n",
      " |  .. note:: Most of the data is only available after calling\n",
      " |      :func:`Session.load`\n",
      " |  \n",
      " |  Methods defined here:\n",
      " |  \n",
      " |  __init__(self, event, session_name, f1_api_support=False)\n",
      " |      Initialize self.  See help(type(self)) for accurate signature.\n",
      " |  \n",
      " |  __repr__(self)\n",
      " |      Return repr(self).\n",
      " |  \n",
      " |  get_driver(self, identifier) -> 'DriverResult'\n",
      " |      Get a driver object which contains additional information about a driver.\n",
      " |      \n",
      " |      Args:\n",
      " |          identifier (str): driver's three letter identifier (for\n",
      " |              example 'VER') or driver number as string\n",
      " |      \n",
      " |      Returns:\n",
      " |          instance of :class:`DriverResult`\n",
      " |  \n",
      " |  load(self, *, laps=True, telemetry=True, weather=True, messages=True, livedata=None)\n",
      " |      Load session data from the supported APIs.\n",
      " |      \n",
      " |      This method allows to flexibly load some or all data that FastF1 can\n",
      " |      give you access to. Without specifying any further options, all data\n",
      " |      is loaded by default.\n",
      " |      \n",
      " |      Usually, it is recommended to load all available data because\n",
      " |      internally FastF1 partially mixes data from multiple endpoints and\n",
      " |      data sources to correct for errors or to add more information. These\n",
      " |      features are optional and may not work when some data is unavailable.\n",
      " |      In these cases, FastF1 will return the data to the best of its\n",
      " |      abilities.\n",
      " |      \n",
      " |      .. note:: **Lap data: drivers crashing and retiring**\n",
      " |      \n",
      " |          *During a session:*\n",
      " |          An additional last lap is added for a driver if the last timed\n",
      " |          lap of a driver is not an inlap and the session is aborted next.\n",
      " |          The `Time` for when this lap was \"set\" will be set to the time at\n",
      " |          which the session was aborted.\n",
      " |      \n",
      " |          *First lap in a race:*\n",
      " |          A single lap with minimal information will be added in race\n",
      " |          sessions if a driver does not complete at least one timed lap.\n",
      " |          The `LapStartTime` for this lap will be set to the start time\n",
      " |          of the session as with all other laps in a race. The `Time` at\n",
      " |          which this lap was \"set\" will be set to the time at which the\n",
      " |          first driver completes their first lap.\n",
      " |      \n",
      " |      \n",
      " |      .. note:: Absolute time is not super accurate. The moment a lap\n",
      " |          is logged is not always the same and there will be some\n",
      " |          jitter. At the moment lap time reference is synchronised\n",
      " |          on the sector time triggered with lowest latency.\n",
      " |          Expect an error of around ±10m when overlapping telemetry\n",
      " |          data of different laps.\n",
      " |      \n",
      " |      Args:\n",
      " |          laps (bool): Load laps and session status data.\n",
      " |          telemetry (bool): Load telemetry data.\n",
      " |          weather (bool): Load weather data.\n",
      " |          messages (bool): Load race control messages for the session\n",
      " |          livedata (:class:`fastf1.livetiming.data.LiveTimingData`, optional):\n",
      " |              instead of requesting the data from the api, locally saved\n",
      " |              livetiming data can be used as a data source\n",
      " |  \n",
      " |  ----------------------------------------------------------------------\n",
      " |  Readonly properties defined here:\n",
      " |  \n",
      " |  car_data\n",
      " |      Dictionary of car telemetry (Speed, RPM, etc.) as received from\n",
      " |      the api by car number (where car number is a string and the telemetry\n",
      " |      is an instance of :class:`Telemetry`)\n",
      " |      \n",
      " |      Data is available after calling `Session.load` with ``telemetry=True``\n",
      " |  \n",
      " |  drivers\n",
      " |      :class:`list`: List of all drivers that took part in this\n",
      " |      session; contains driver numbers as string.\n",
      " |      \n",
      " |      Data is available after calling `Session.load`\n",
      " |  \n",
      " |  laps\n",
      " |      :class:`Laps`: All laps from all drivers driven in this session.\n",
      " |      \n",
      " |      Data is available after calling `Session.load` with ``laps=True``\n",
      " |  \n",
      " |  pos_data\n",
      " |      Dictionary of car position data as received from the api by car\n",
      " |      number (where car number is a string and the telemetry\n",
      " |      is an instance of :class:`Telemetry`)\n",
      " |      \n",
      " |      Data is available after calling `Session.load` with ``telemetry=True``\n",
      " |  \n",
      " |  race_control_messages\n",
      " |      :class:`pandas.Dataframe`: Race Control messages as returned by\n",
      " |      :func:`fastf1.api.race_control_messages`\n",
      " |      \n",
      " |      Data is available after calling `Session.load` with ``messages=True``\n",
      " |  \n",
      " |  results\n",
      " |      :class:`SessionResults`: Session result with driver information.\n",
      " |      \n",
      " |      Data is available after calling `Session.load`\n",
      " |  \n",
      " |  session_start_time\n",
      " |      :class:`pandas.Timedelta`: Session time at which the session was\n",
      " |      started according to the session status data. This is not the\n",
      " |      time at which the session is scheduled to be started!\n",
      " |      \n",
      " |      Data is available after calling `Session.load` with ``laps=True``\n",
      " |  \n",
      " |  session_status\n",
      " |      :class:`pandas.Dataframe`: Session status data as returned by\n",
      " |      :func:`fastf1.api.session_status_data`\n",
      " |      \n",
      " |      Data is available after calling `Session.load` with ``laps=True``\n",
      " |  \n",
      " |  t0_date\n",
      " |      :class:`pandas.Datetime`: Date timestamp which marks the beginning\n",
      " |      of the data stream (the moment at which the session time is zero).\n",
      " |      \n",
      " |      Data is available after calling `Session.load` with ``telemetry=True``\n",
      " |  \n",
      " |  total_laps\n",
      " |      :class:`int`: Originally scheduled number of laps for race-like\n",
      " |      sessions such as Race and Sprint. It takes None as a default value\n",
      " |      for other types of sessions or if data is unavailable\n",
      " |      \n",
      " |      Data is available after calling `Session.load` with ``laps=True``\n",
      " |  \n",
      " |  track_status\n",
      " |      :class:`pandas.Dataframe`: Track status data as returned by\n",
      " |      :func:`fastf1.api.track_status_data`\n",
      " |      \n",
      " |      Data is available after calling `Session.load` with ``laps=True``\n",
      " |  \n",
      " |  weather_data\n",
      " |      Dataframe containing weather data for this session as received\n",
      " |      from the api. See :func:`fastf1.api.weather_data` for available data\n",
      " |      channels. Each data channel is one row of the dataframe.\n",
      " |      \n",
      " |      Data is available after calling `Session.load` with ``weather=True``\n",
      " |  \n",
      " |  ----------------------------------------------------------------------\n",
      " |  Data descriptors defined here:\n",
      " |  \n",
      " |  __dict__\n",
      " |      dictionary for instance variables (if defined)\n",
      " |  \n",
      " |  __weakref__\n",
      " |      list of weak references to the object (if defined)\n",
      "\n"
     ]
    }
   ],
   "source": [
    "help(session)"
   ]
  },
  {
   "cell_type": "code",
   "execution_count": 40,
   "metadata": {},
   "outputs": [
    {
     "data": {
      "text/plain": [
       "'/static/2021/2021-05-09_Spanish_Grand_Prix/2021-05-09_Race/'"
      ]
     },
     "execution_count": 40,
     "metadata": {},
     "output_type": "execute_result"
    }
   ],
   "source": [
    "session.api_path"
   ]
  },
  {
   "cell_type": "code",
   "execution_count": 41,
   "metadata": {},
   "outputs": [
    {
     "data": {
      "text/plain": [
       "RPM\n",
       "0        6903\n",
       "11077      21\n",
       "10950      19\n",
       "10988      19\n",
       "11153      19\n",
       "         ... \n",
       "8935        1\n",
       "8574        1\n",
       "12387       1\n",
       "7410        1\n",
       "1704        1\n",
       "Name: count, Length: 6765, dtype: int64"
      ]
     },
     "execution_count": 41,
     "metadata": {},
     "output_type": "execute_result"
    }
   ],
   "source": [
    "session.car_data['44']['RPM'].value_counts()"
   ]
  },
  {
   "cell_type": "code",
   "execution_count": 42,
   "metadata": {},
   "outputs": [
    {
     "data": {
      "text/plain": [
       "Timestamp('2021-05-09 13:00:00')"
      ]
     },
     "execution_count": 42,
     "metadata": {},
     "output_type": "execute_result"
    }
   ],
   "source": [
    "session.date"
   ]
  },
  {
   "cell_type": "code",
   "execution_count": 45,
   "metadata": {},
   "outputs": [
    {
     "name": "stdout",
     "output_type": "stream",
     "text": [
      "['44', '33', '77', '16', '31', '55', '3', '11', '4', '14', '18', '10', '5', '99', '63', '22', '7', '47', '6', '9']\n"
     ]
    }
   ],
   "source": [
    "print(session.drivers)"
   ]
  },
  {
   "cell_type": "code",
   "execution_count": 44,
   "metadata": {},
   "outputs": [
    {
     "data": {
      "text/plain": [
       "RoundNumber                                                    4\n",
       "Country                                                    Spain\n",
       "Location                                               Barcelona\n",
       "OfficialEventName    FORMULA 1 ARAMCO GRAN PREMIO DE ESPAÑA 2021\n",
       "EventDate                                    2021-05-09 00:00:00\n",
       "EventName                                     Spanish Grand Prix\n",
       "EventFormat                                         conventional\n",
       "Session1                                              Practice 1\n",
       "Session1Date                           2021-05-07 11:30:00+02:00\n",
       "Session1DateUtc                              2021-05-07 09:30:00\n",
       "Session2                                              Practice 2\n",
       "Session2Date                           2021-05-07 15:00:00+02:00\n",
       "Session2DateUtc                              2021-05-07 13:00:00\n",
       "Session3                                              Practice 3\n",
       "Session3Date                           2021-05-08 12:00:00+02:00\n",
       "Session3DateUtc                              2021-05-08 10:00:00\n",
       "Session4                                              Qualifying\n",
       "Session4Date                           2021-05-08 15:00:00+02:00\n",
       "Session4DateUtc                              2021-05-08 13:00:00\n",
       "Session5                                                    Race\n",
       "Session5Date                           2021-05-09 15:00:00+02:00\n",
       "Session5DateUtc                              2021-05-09 13:00:00\n",
       "F1ApiSupport                                                True\n",
       "Name: 4, dtype: object"
      ]
     },
     "execution_count": 44,
     "metadata": {},
     "output_type": "execute_result"
    }
   ],
   "source": [
    "session.event"
   ]
  },
  {
   "cell_type": "code",
   "execution_count": 46,
   "metadata": {},
   "outputs": [
    {
     "data": {
      "text/plain": [
       "True"
      ]
     },
     "execution_count": 46,
     "metadata": {},
     "output_type": "execute_result"
    }
   ],
   "source": [
    "session.f1_api_support"
   ]
  },
  {
   "cell_type": "code",
   "execution_count": 47,
   "metadata": {},
   "outputs": [
    {
     "data": {
      "text/plain": [
       "DriverNumber                                                         44\n",
       "BroadcastName                                                L HAMILTON\n",
       "Abbreviation                                                        HAM\n",
       "DriverId                                                               \n",
       "TeamName                                                       Mercedes\n",
       "TeamColor                                                        00D2BE\n",
       "TeamId                                                                 \n",
       "FirstName                                                         Lewis\n",
       "LastName                                                       Hamilton\n",
       "FullName                                                 Lewis Hamilton\n",
       "HeadshotUrl           https://www.formula1.com/content/dam/fom-websi...\n",
       "CountryCode                                                            \n",
       "Position                                                            NaN\n",
       "ClassifiedPosition                                                     \n",
       "GridPosition                                                        NaN\n",
       "Q1                                                                  NaT\n",
       "Q2                                                                  NaT\n",
       "Q3                                                                  NaT\n",
       "Time                                                                NaT\n",
       "Status                                                                 \n",
       "Points                                                              NaN\n",
       "Name: 44, dtype: object"
      ]
     },
     "execution_count": 47,
     "metadata": {},
     "output_type": "execute_result"
    }
   ],
   "source": [
    "session.get_driver('44')"
   ]
  },
  {
   "cell_type": "code",
   "execution_count": 49,
   "metadata": {},
   "outputs": [
    {
     "data": {
      "text/plain": [
       "Index(['Time', 'Driver', 'DriverNumber', 'LapTime', 'LapNumber', 'Stint',\n",
       "       'PitOutTime', 'PitInTime', 'Sector1Time', 'Sector2Time', 'Sector3Time',\n",
       "       'Sector1SessionTime', 'Sector2SessionTime', 'Sector3SessionTime',\n",
       "       'SpeedI1', 'SpeedI2', 'SpeedFL', 'SpeedST', 'IsPersonalBest',\n",
       "       'Compound', 'TyreLife', 'FreshTyre', 'Team', 'LapStartTime',\n",
       "       'LapStartDate', 'TrackStatus', 'Position', 'Deleted', 'DeletedReason',\n",
       "       'FastF1Generated', 'IsAccurate'],\n",
       "      dtype='object')"
      ]
     },
     "execution_count": 49,
     "metadata": {},
     "output_type": "execute_result"
    }
   ],
   "source": [
    "session.laps.columns"
   ]
  },
  {
   "cell_type": "code",
   "execution_count": 50,
   "metadata": {},
   "outputs": [
    {
     "data": {
      "text/plain": [
       "'Race'"
      ]
     },
     "execution_count": 50,
     "metadata": {},
     "output_type": "execute_result"
    }
   ],
   "source": [
    "session.name"
   ]
  },
  {
   "cell_type": "code",
   "execution_count": 51,
   "metadata": {},
   "outputs": [
    {
     "data": {
      "text/html": [
       "<div>\n",
       "<style scoped>\n",
       "    .dataframe tbody tr th:only-of-type {\n",
       "        vertical-align: middle;\n",
       "    }\n",
       "\n",
       "    .dataframe tbody tr th {\n",
       "        vertical-align: top;\n",
       "    }\n",
       "\n",
       "    .dataframe thead th {\n",
       "        text-align: right;\n",
       "    }\n",
       "</style>\n",
       "<table border=\"1\" class=\"dataframe\">\n",
       "  <thead>\n",
       "    <tr style=\"text-align: right;\">\n",
       "      <th></th>\n",
       "      <th>Date</th>\n",
       "      <th>Status</th>\n",
       "      <th>X</th>\n",
       "      <th>Y</th>\n",
       "      <th>Z</th>\n",
       "      <th>Source</th>\n",
       "      <th>Time</th>\n",
       "      <th>SessionTime</th>\n",
       "    </tr>\n",
       "  </thead>\n",
       "  <tbody>\n",
       "    <tr>\n",
       "      <th>0</th>\n",
       "      <td>2021-05-09 12:30:03.181</td>\n",
       "      <td>OnTrack</td>\n",
       "      <td>944</td>\n",
       "      <td>-286</td>\n",
       "      <td>1707</td>\n",
       "      <td>pos</td>\n",
       "      <td>0 days 00:00:03.173000</td>\n",
       "      <td>0 days 00:00:03.173000</td>\n",
       "    </tr>\n",
       "    <tr>\n",
       "      <th>1</th>\n",
       "      <td>2021-05-09 12:30:03.401</td>\n",
       "      <td>OnTrack</td>\n",
       "      <td>944</td>\n",
       "      <td>-286</td>\n",
       "      <td>1707</td>\n",
       "      <td>pos</td>\n",
       "      <td>0 days 00:00:03.393000</td>\n",
       "      <td>0 days 00:00:03.393000</td>\n",
       "    </tr>\n",
       "    <tr>\n",
       "      <th>2</th>\n",
       "      <td>2021-05-09 12:30:03.621</td>\n",
       "      <td>OnTrack</td>\n",
       "      <td>944</td>\n",
       "      <td>-286</td>\n",
       "      <td>1707</td>\n",
       "      <td>pos</td>\n",
       "      <td>0 days 00:00:03.613000</td>\n",
       "      <td>0 days 00:00:03.613000</td>\n",
       "    </tr>\n",
       "    <tr>\n",
       "      <th>3</th>\n",
       "      <td>2021-05-09 12:30:03.841</td>\n",
       "      <td>OnTrack</td>\n",
       "      <td>944</td>\n",
       "      <td>-286</td>\n",
       "      <td>1707</td>\n",
       "      <td>pos</td>\n",
       "      <td>0 days 00:00:03.833000</td>\n",
       "      <td>0 days 00:00:03.833000</td>\n",
       "    </tr>\n",
       "    <tr>\n",
       "      <th>4</th>\n",
       "      <td>2021-05-09 12:30:04.061</td>\n",
       "      <td>OnTrack</td>\n",
       "      <td>944</td>\n",
       "      <td>-286</td>\n",
       "      <td>1707</td>\n",
       "      <td>pos</td>\n",
       "      <td>0 days 00:00:04.053000</td>\n",
       "      <td>0 days 00:00:04.053000</td>\n",
       "    </tr>\n",
       "  </tbody>\n",
       "</table>\n",
       "</div>"
      ],
      "text/plain": [
       "                     Date   Status    X    Y     Z Source   \n",
       "0 2021-05-09 12:30:03.181  OnTrack  944 -286  1707    pos  \\\n",
       "1 2021-05-09 12:30:03.401  OnTrack  944 -286  1707    pos   \n",
       "2 2021-05-09 12:30:03.621  OnTrack  944 -286  1707    pos   \n",
       "3 2021-05-09 12:30:03.841  OnTrack  944 -286  1707    pos   \n",
       "4 2021-05-09 12:30:04.061  OnTrack  944 -286  1707    pos   \n",
       "\n",
       "                    Time            SessionTime  \n",
       "0 0 days 00:00:03.173000 0 days 00:00:03.173000  \n",
       "1 0 days 00:00:03.393000 0 days 00:00:03.393000  \n",
       "2 0 days 00:00:03.613000 0 days 00:00:03.613000  \n",
       "3 0 days 00:00:03.833000 0 days 00:00:03.833000  \n",
       "4 0 days 00:00:04.053000 0 days 00:00:04.053000  "
      ]
     },
     "execution_count": 51,
     "metadata": {},
     "output_type": "execute_result"
    }
   ],
   "source": [
    "session.pos_data['44'].head()"
   ]
  },
  {
   "cell_type": "code",
   "execution_count": 52,
   "metadata": {},
   "outputs": [
    {
     "data": {
      "text/html": [
       "<div>\n",
       "<style scoped>\n",
       "    .dataframe tbody tr th:only-of-type {\n",
       "        vertical-align: middle;\n",
       "    }\n",
       "\n",
       "    .dataframe tbody tr th {\n",
       "        vertical-align: top;\n",
       "    }\n",
       "\n",
       "    .dataframe thead th {\n",
       "        text-align: right;\n",
       "    }\n",
       "</style>\n",
       "<table border=\"1\" class=\"dataframe\">\n",
       "  <thead>\n",
       "    <tr style=\"text-align: right;\">\n",
       "      <th></th>\n",
       "      <th>Time</th>\n",
       "      <th>Category</th>\n",
       "      <th>Message</th>\n",
       "      <th>Status</th>\n",
       "      <th>Flag</th>\n",
       "      <th>Scope</th>\n",
       "      <th>Sector</th>\n",
       "      <th>RacingNumber</th>\n",
       "    </tr>\n",
       "  </thead>\n",
       "  <tbody>\n",
       "    <tr>\n",
       "      <th>0</th>\n",
       "      <td>2021-05-09 12:45:09</td>\n",
       "      <td>Other</td>\n",
       "      <td>RISK OF RAIN FOR F1 RACE IS 20%</td>\n",
       "      <td>None</td>\n",
       "      <td>None</td>\n",
       "      <td>None</td>\n",
       "      <td>NaN</td>\n",
       "      <td>None</td>\n",
       "    </tr>\n",
       "    <tr>\n",
       "      <th>1</th>\n",
       "      <td>2021-05-09 12:57:06</td>\n",
       "      <td>Drs</td>\n",
       "      <td>DRS DISABLED</td>\n",
       "      <td>DISABLED</td>\n",
       "      <td>None</td>\n",
       "      <td>None</td>\n",
       "      <td>NaN</td>\n",
       "      <td>None</td>\n",
       "    </tr>\n",
       "    <tr>\n",
       "      <th>2</th>\n",
       "      <td>2021-05-09 13:03:18</td>\n",
       "      <td>Flag</td>\n",
       "      <td>GREEN LIGHT - PIT EXIT OPEN</td>\n",
       "      <td>None</td>\n",
       "      <td>GREEN</td>\n",
       "      <td>Track</td>\n",
       "      <td>NaN</td>\n",
       "      <td>None</td>\n",
       "    </tr>\n",
       "    <tr>\n",
       "      <th>3</th>\n",
       "      <td>2021-05-09 13:06:22</td>\n",
       "      <td>Drs</td>\n",
       "      <td>DRS ENABLED</td>\n",
       "      <td>ENABLED</td>\n",
       "      <td>None</td>\n",
       "      <td>None</td>\n",
       "      <td>NaN</td>\n",
       "      <td>None</td>\n",
       "    </tr>\n",
       "    <tr>\n",
       "      <th>4</th>\n",
       "      <td>2021-05-09 13:08:22</td>\n",
       "      <td>Other</td>\n",
       "      <td>INCIDENT INVOLVING CAR 10 (GAS) UNDER INVESTIG...</td>\n",
       "      <td>None</td>\n",
       "      <td>None</td>\n",
       "      <td>None</td>\n",
       "      <td>NaN</td>\n",
       "      <td>None</td>\n",
       "    </tr>\n",
       "  </tbody>\n",
       "</table>\n",
       "</div>"
      ],
      "text/plain": [
       "                 Time Category   \n",
       "0 2021-05-09 12:45:09    Other  \\\n",
       "1 2021-05-09 12:57:06      Drs   \n",
       "2 2021-05-09 13:03:18     Flag   \n",
       "3 2021-05-09 13:06:22      Drs   \n",
       "4 2021-05-09 13:08:22    Other   \n",
       "\n",
       "                                             Message    Status   Flag  Scope   \n",
       "0                    RISK OF RAIN FOR F1 RACE IS 20%      None   None   None  \\\n",
       "1                                       DRS DISABLED  DISABLED   None   None   \n",
       "2                        GREEN LIGHT - PIT EXIT OPEN      None  GREEN  Track   \n",
       "3                                        DRS ENABLED   ENABLED   None   None   \n",
       "4  INCIDENT INVOLVING CAR 10 (GAS) UNDER INVESTIG...      None   None   None   \n",
       "\n",
       "   Sector RacingNumber  \n",
       "0     NaN         None  \n",
       "1     NaN         None  \n",
       "2     NaN         None  \n",
       "3     NaN         None  \n",
       "4     NaN         None  "
      ]
     },
     "execution_count": 52,
     "metadata": {},
     "output_type": "execute_result"
    }
   ],
   "source": [
    "session.race_control_messages.head()"
   ]
  },
  {
   "cell_type": "code",
   "execution_count": 53,
   "metadata": {},
   "outputs": [
    {
     "data": {
      "text/html": [
       "<div>\n",
       "<style scoped>\n",
       "    .dataframe tbody tr th:only-of-type {\n",
       "        vertical-align: middle;\n",
       "    }\n",
       "\n",
       "    .dataframe tbody tr th {\n",
       "        vertical-align: top;\n",
       "    }\n",
       "\n",
       "    .dataframe thead th {\n",
       "        text-align: right;\n",
       "    }\n",
       "</style>\n",
       "<table border=\"1\" class=\"dataframe\">\n",
       "  <thead>\n",
       "    <tr style=\"text-align: right;\">\n",
       "      <th></th>\n",
       "      <th>DriverNumber</th>\n",
       "      <th>BroadcastName</th>\n",
       "      <th>Abbreviation</th>\n",
       "      <th>DriverId</th>\n",
       "      <th>TeamName</th>\n",
       "      <th>TeamColor</th>\n",
       "      <th>TeamId</th>\n",
       "      <th>FirstName</th>\n",
       "      <th>LastName</th>\n",
       "      <th>FullName</th>\n",
       "      <th>HeadshotUrl</th>\n",
       "      <th>CountryCode</th>\n",
       "      <th>Position</th>\n",
       "      <th>ClassifiedPosition</th>\n",
       "      <th>GridPosition</th>\n",
       "      <th>Q1</th>\n",
       "      <th>Q2</th>\n",
       "      <th>Q3</th>\n",
       "      <th>Time</th>\n",
       "      <th>Status</th>\n",
       "      <th>Points</th>\n",
       "    </tr>\n",
       "  </thead>\n",
       "  <tbody>\n",
       "    <tr>\n",
       "      <th>44</th>\n",
       "      <td>44</td>\n",
       "      <td>L HAMILTON</td>\n",
       "      <td>HAM</td>\n",
       "      <td></td>\n",
       "      <td>Mercedes</td>\n",
       "      <td>00D2BE</td>\n",
       "      <td></td>\n",
       "      <td>Lewis</td>\n",
       "      <td>Hamilton</td>\n",
       "      <td>Lewis Hamilton</td>\n",
       "      <td>https://www.formula1.com/content/dam/fom-websi...</td>\n",
       "      <td></td>\n",
       "      <td>NaN</td>\n",
       "      <td></td>\n",
       "      <td>NaN</td>\n",
       "      <td>NaT</td>\n",
       "      <td>NaT</td>\n",
       "      <td>NaT</td>\n",
       "      <td>NaT</td>\n",
       "      <td></td>\n",
       "      <td>NaN</td>\n",
       "    </tr>\n",
       "    <tr>\n",
       "      <th>33</th>\n",
       "      <td>33</td>\n",
       "      <td>M VERSTAPPEN</td>\n",
       "      <td>VER</td>\n",
       "      <td></td>\n",
       "      <td>Red Bull Racing</td>\n",
       "      <td>0600EF</td>\n",
       "      <td></td>\n",
       "      <td>Max</td>\n",
       "      <td>Verstappen</td>\n",
       "      <td>Max Verstappen</td>\n",
       "      <td>https://www.formula1.com/content/dam/fom-websi...</td>\n",
       "      <td></td>\n",
       "      <td>NaN</td>\n",
       "      <td></td>\n",
       "      <td>NaN</td>\n",
       "      <td>NaT</td>\n",
       "      <td>NaT</td>\n",
       "      <td>NaT</td>\n",
       "      <td>NaT</td>\n",
       "      <td></td>\n",
       "      <td>NaN</td>\n",
       "    </tr>\n",
       "    <tr>\n",
       "      <th>77</th>\n",
       "      <td>77</td>\n",
       "      <td>V BOTTAS</td>\n",
       "      <td>BOT</td>\n",
       "      <td></td>\n",
       "      <td>Mercedes</td>\n",
       "      <td>00D2BE</td>\n",
       "      <td></td>\n",
       "      <td>Valtteri</td>\n",
       "      <td>Bottas</td>\n",
       "      <td>Valtteri Bottas</td>\n",
       "      <td>https://www.formula1.com/content/dam/fom-websi...</td>\n",
       "      <td></td>\n",
       "      <td>NaN</td>\n",
       "      <td></td>\n",
       "      <td>NaN</td>\n",
       "      <td>NaT</td>\n",
       "      <td>NaT</td>\n",
       "      <td>NaT</td>\n",
       "      <td>NaT</td>\n",
       "      <td></td>\n",
       "      <td>NaN</td>\n",
       "    </tr>\n",
       "    <tr>\n",
       "      <th>16</th>\n",
       "      <td>16</td>\n",
       "      <td>C LECLERC</td>\n",
       "      <td>LEC</td>\n",
       "      <td></td>\n",
       "      <td>Ferrari</td>\n",
       "      <td>DC0004</td>\n",
       "      <td></td>\n",
       "      <td>Charles</td>\n",
       "      <td>Leclerc</td>\n",
       "      <td>Charles Leclerc</td>\n",
       "      <td>https://www.formula1.com/content/dam/fom-websi...</td>\n",
       "      <td></td>\n",
       "      <td>NaN</td>\n",
       "      <td></td>\n",
       "      <td>NaN</td>\n",
       "      <td>NaT</td>\n",
       "      <td>NaT</td>\n",
       "      <td>NaT</td>\n",
       "      <td>NaT</td>\n",
       "      <td></td>\n",
       "      <td>NaN</td>\n",
       "    </tr>\n",
       "    <tr>\n",
       "      <th>31</th>\n",
       "      <td>31</td>\n",
       "      <td>E OCON</td>\n",
       "      <td>OCO</td>\n",
       "      <td></td>\n",
       "      <td>Alpine</td>\n",
       "      <td>0090FF</td>\n",
       "      <td></td>\n",
       "      <td>Esteban</td>\n",
       "      <td>Ocon</td>\n",
       "      <td>Esteban Ocon</td>\n",
       "      <td>https://www.formula1.com/content/dam/fom-websi...</td>\n",
       "      <td></td>\n",
       "      <td>NaN</td>\n",
       "      <td></td>\n",
       "      <td>NaN</td>\n",
       "      <td>NaT</td>\n",
       "      <td>NaT</td>\n",
       "      <td>NaT</td>\n",
       "      <td>NaT</td>\n",
       "      <td></td>\n",
       "      <td>NaN</td>\n",
       "    </tr>\n",
       "  </tbody>\n",
       "</table>\n",
       "</div>"
      ],
      "text/plain": [
       "   DriverNumber BroadcastName Abbreviation DriverId         TeamName   \n",
       "44           44    L HAMILTON          HAM                  Mercedes  \\\n",
       "33           33  M VERSTAPPEN          VER           Red Bull Racing   \n",
       "77           77      V BOTTAS          BOT                  Mercedes   \n",
       "16           16     C LECLERC          LEC                   Ferrari   \n",
       "31           31        E OCON          OCO                    Alpine   \n",
       "\n",
       "   TeamColor TeamId FirstName    LastName         FullName   \n",
       "44    00D2BE            Lewis    Hamilton   Lewis Hamilton  \\\n",
       "33    0600EF              Max  Verstappen   Max Verstappen   \n",
       "77    00D2BE         Valtteri      Bottas  Valtteri Bottas   \n",
       "16    DC0004          Charles     Leclerc  Charles Leclerc   \n",
       "31    0090FF          Esteban        Ocon     Esteban Ocon   \n",
       "\n",
       "                                          HeadshotUrl CountryCode  Position   \n",
       "44  https://www.formula1.com/content/dam/fom-websi...                   NaN  \\\n",
       "33  https://www.formula1.com/content/dam/fom-websi...                   NaN   \n",
       "77  https://www.formula1.com/content/dam/fom-websi...                   NaN   \n",
       "16  https://www.formula1.com/content/dam/fom-websi...                   NaN   \n",
       "31  https://www.formula1.com/content/dam/fom-websi...                   NaN   \n",
       "\n",
       "   ClassifiedPosition  GridPosition  Q1  Q2  Q3 Time Status  Points  \n",
       "44                              NaN NaT NaT NaT  NaT            NaN  \n",
       "33                              NaN NaT NaT NaT  NaT            NaN  \n",
       "77                              NaN NaT NaT NaT  NaT            NaN  \n",
       "16                              NaN NaT NaT NaT  NaT            NaN  \n",
       "31                              NaN NaT NaT NaT  NaT            NaN  "
      ]
     },
     "execution_count": 53,
     "metadata": {},
     "output_type": "execute_result"
    }
   ],
   "source": [
    "pd.set_option('display.max_columns', 100)\n",
    "\n",
    "\n",
    "session.results.head()"
   ]
  },
  {
   "cell_type": "code",
   "execution_count": 54,
   "metadata": {},
   "outputs": [
    {
     "data": {
      "text/plain": [
       "datetime.timedelta(seconds=1998, microseconds=87000)"
      ]
     },
     "execution_count": 54,
     "metadata": {},
     "output_type": "execute_result"
    }
   ],
   "source": [
    "session.session_start_time"
   ]
  },
  {
   "cell_type": "code",
   "execution_count": 55,
   "metadata": {},
   "outputs": [
    {
     "data": {
      "text/html": [
       "<div>\n",
       "<style scoped>\n",
       "    .dataframe tbody tr th:only-of-type {\n",
       "        vertical-align: middle;\n",
       "    }\n",
       "\n",
       "    .dataframe tbody tr th {\n",
       "        vertical-align: top;\n",
       "    }\n",
       "\n",
       "    .dataframe thead th {\n",
       "        text-align: right;\n",
       "    }\n",
       "</style>\n",
       "<table border=\"1\" class=\"dataframe\">\n",
       "  <thead>\n",
       "    <tr style=\"text-align: right;\">\n",
       "      <th></th>\n",
       "      <th>Time</th>\n",
       "      <th>Status</th>\n",
       "    </tr>\n",
       "  </thead>\n",
       "  <tbody>\n",
       "    <tr>\n",
       "      <th>0</th>\n",
       "      <td>0 days 00:00:08.664000</td>\n",
       "      <td>Inactive</td>\n",
       "    </tr>\n",
       "    <tr>\n",
       "      <th>1</th>\n",
       "      <td>0 days 00:33:18.087000</td>\n",
       "      <td>Started</td>\n",
       "    </tr>\n",
       "    <tr>\n",
       "      <th>2</th>\n",
       "      <td>0 days 02:06:26.001000</td>\n",
       "      <td>Finished</td>\n",
       "    </tr>\n",
       "    <tr>\n",
       "      <th>3</th>\n",
       "      <td>0 days 02:09:37.914000</td>\n",
       "      <td>Finalised</td>\n",
       "    </tr>\n",
       "    <tr>\n",
       "      <th>4</th>\n",
       "      <td>0 days 02:09:38.695000</td>\n",
       "      <td>Ends</td>\n",
       "    </tr>\n",
       "  </tbody>\n",
       "</table>\n",
       "</div>"
      ],
      "text/plain": [
       "                    Time     Status\n",
       "0 0 days 00:00:08.664000   Inactive\n",
       "1 0 days 00:33:18.087000    Started\n",
       "2 0 days 02:06:26.001000   Finished\n",
       "3 0 days 02:09:37.914000  Finalised\n",
       "4 0 days 02:09:38.695000       Ends"
      ]
     },
     "execution_count": 55,
     "metadata": {},
     "output_type": "execute_result"
    }
   ],
   "source": [
    "session.session_status"
   ]
  },
  {
   "cell_type": "code",
   "execution_count": 56,
   "metadata": {},
   "outputs": [
    {
     "data": {
      "text/plain": [
       "Timestamp('2021-05-09 12:30:00.008000')"
      ]
     },
     "execution_count": 56,
     "metadata": {},
     "output_type": "execute_result"
    }
   ],
   "source": [
    "session.t0_date"
   ]
  },
  {
   "cell_type": "code",
   "execution_count": 57,
   "metadata": {},
   "outputs": [
    {
     "data": {
      "text/plain": [
       "66"
      ]
     },
     "execution_count": 57,
     "metadata": {},
     "output_type": "execute_result"
    }
   ],
   "source": [
    "session.total_laps"
   ]
  },
  {
   "cell_type": "code",
   "execution_count": 58,
   "metadata": {},
   "outputs": [
    {
     "data": {
      "text/html": [
       "<div>\n",
       "<style scoped>\n",
       "    .dataframe tbody tr th:only-of-type {\n",
       "        vertical-align: middle;\n",
       "    }\n",
       "\n",
       "    .dataframe tbody tr th {\n",
       "        vertical-align: top;\n",
       "    }\n",
       "\n",
       "    .dataframe thead th {\n",
       "        text-align: right;\n",
       "    }\n",
       "</style>\n",
       "<table border=\"1\" class=\"dataframe\">\n",
       "  <thead>\n",
       "    <tr style=\"text-align: right;\">\n",
       "      <th></th>\n",
       "      <th>Time</th>\n",
       "      <th>Status</th>\n",
       "      <th>Message</th>\n",
       "    </tr>\n",
       "  </thead>\n",
       "  <tbody>\n",
       "    <tr>\n",
       "      <th>0</th>\n",
       "      <td>0 days 00:13:38.039000</td>\n",
       "      <td>1</td>\n",
       "      <td>AllClear</td>\n",
       "    </tr>\n",
       "    <tr>\n",
       "      <th>1</th>\n",
       "      <td>0 days 00:43:22.754000</td>\n",
       "      <td>2</td>\n",
       "      <td>Yellow</td>\n",
       "    </tr>\n",
       "    <tr>\n",
       "      <th>2</th>\n",
       "      <td>0 days 00:44:22.323000</td>\n",
       "      <td>4</td>\n",
       "      <td>SCDeployed</td>\n",
       "    </tr>\n",
       "    <tr>\n",
       "      <th>3</th>\n",
       "      <td>0 days 00:48:47.890000</td>\n",
       "      <td>1</td>\n",
       "      <td>AllClear</td>\n",
       "    </tr>\n",
       "  </tbody>\n",
       "</table>\n",
       "</div>"
      ],
      "text/plain": [
       "                    Time Status     Message\n",
       "0 0 days 00:13:38.039000      1    AllClear\n",
       "1 0 days 00:43:22.754000      2      Yellow\n",
       "2 0 days 00:44:22.323000      4  SCDeployed\n",
       "3 0 days 00:48:47.890000      1    AllClear"
      ]
     },
     "execution_count": 58,
     "metadata": {},
     "output_type": "execute_result"
    }
   ],
   "source": [
    "session.track_status"
   ]
  },
  {
   "cell_type": "code",
   "execution_count": 60,
   "metadata": {},
   "outputs": [
    {
     "data": {
      "text/html": [
       "<div>\n",
       "<style scoped>\n",
       "    .dataframe tbody tr th:only-of-type {\n",
       "        vertical-align: middle;\n",
       "    }\n",
       "\n",
       "    .dataframe tbody tr th {\n",
       "        vertical-align: top;\n",
       "    }\n",
       "\n",
       "    .dataframe thead th {\n",
       "        text-align: right;\n",
       "    }\n",
       "</style>\n",
       "<table border=\"1\" class=\"dataframe\">\n",
       "  <thead>\n",
       "    <tr style=\"text-align: right;\">\n",
       "      <th></th>\n",
       "      <th>Time</th>\n",
       "      <th>AirTemp</th>\n",
       "      <th>Humidity</th>\n",
       "      <th>Pressure</th>\n",
       "      <th>Rainfall</th>\n",
       "      <th>TrackTemp</th>\n",
       "      <th>WindDirection</th>\n",
       "      <th>WindSpeed</th>\n",
       "    </tr>\n",
       "  </thead>\n",
       "  <tbody>\n",
       "    <tr>\n",
       "      <th>0</th>\n",
       "      <td>0 days 00:00:31.507000</td>\n",
       "      <td>22.3</td>\n",
       "      <td>55.0</td>\n",
       "      <td>994.5</td>\n",
       "      <td>False</td>\n",
       "      <td>34.1</td>\n",
       "      <td>252</td>\n",
       "      <td>0.2</td>\n",
       "    </tr>\n",
       "    <tr>\n",
       "      <th>1</th>\n",
       "      <td>0 days 00:01:31.508000</td>\n",
       "      <td>22.1</td>\n",
       "      <td>55.9</td>\n",
       "      <td>994.8</td>\n",
       "      <td>False</td>\n",
       "      <td>33.6</td>\n",
       "      <td>272</td>\n",
       "      <td>0.5</td>\n",
       "    </tr>\n",
       "    <tr>\n",
       "      <th>2</th>\n",
       "      <td>0 days 00:02:31.507000</td>\n",
       "      <td>22.1</td>\n",
       "      <td>56.9</td>\n",
       "      <td>995.0</td>\n",
       "      <td>False</td>\n",
       "      <td>33.3</td>\n",
       "      <td>209</td>\n",
       "      <td>0.4</td>\n",
       "    </tr>\n",
       "    <tr>\n",
       "      <th>3</th>\n",
       "      <td>0 days 00:03:31.505000</td>\n",
       "      <td>21.9</td>\n",
       "      <td>57.2</td>\n",
       "      <td>995.1</td>\n",
       "      <td>False</td>\n",
       "      <td>32.9</td>\n",
       "      <td>243</td>\n",
       "      <td>0.4</td>\n",
       "    </tr>\n",
       "    <tr>\n",
       "      <th>4</th>\n",
       "      <td>0 days 00:04:31.511000</td>\n",
       "      <td>21.9</td>\n",
       "      <td>57.4</td>\n",
       "      <td>995.2</td>\n",
       "      <td>False</td>\n",
       "      <td>32.8</td>\n",
       "      <td>212</td>\n",
       "      <td>0.4</td>\n",
       "    </tr>\n",
       "  </tbody>\n",
       "</table>\n",
       "</div>"
      ],
      "text/plain": [
       "                    Time  AirTemp  Humidity  Pressure  Rainfall  TrackTemp   \n",
       "0 0 days 00:00:31.507000     22.3      55.0     994.5     False       34.1  \\\n",
       "1 0 days 00:01:31.508000     22.1      55.9     994.8     False       33.6   \n",
       "2 0 days 00:02:31.507000     22.1      56.9     995.0     False       33.3   \n",
       "3 0 days 00:03:31.505000     21.9      57.2     995.1     False       32.9   \n",
       "4 0 days 00:04:31.511000     21.9      57.4     995.2     False       32.8   \n",
       "\n",
       "   WindDirection  WindSpeed  \n",
       "0            252        0.2  \n",
       "1            272        0.5  \n",
       "2            209        0.4  \n",
       "3            243        0.4  \n",
       "4            212        0.4  "
      ]
     },
     "execution_count": 60,
     "metadata": {},
     "output_type": "execute_result"
    }
   ],
   "source": [
    "session.weather_data.head()"
   ]
  }
 ],
 "metadata": {
  "kernelspec": {
   "display_name": "Python 3",
   "language": "python",
   "name": "python3"
  },
  "language_info": {
   "codemirror_mode": {
    "name": "ipython",
    "version": 3
   },
   "file_extension": ".py",
   "mimetype": "text/x-python",
   "name": "python",
   "nbconvert_exporter": "python",
   "pygments_lexer": "ipython3",
   "version": "3.11.2"
  },
  "orig_nbformat": 4
 },
 "nbformat": 4,
 "nbformat_minor": 2
}
