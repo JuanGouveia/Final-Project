{
 "cells": [
  {
   "cell_type": "code",
   "execution_count": 84,
   "metadata": {},
   "outputs": [],
   "source": [
    "import pandas as pd\n",
    "import numpy as np\n",
    "import matplotlib.pyplot as plt"
   ]
  },
  {
   "cell_type": "code",
   "execution_count": 85,
   "metadata": {},
   "outputs": [],
   "source": [
    "race = pd.read_csv('../data/safety_es_2023_test.csv')\n",
    "first = pd.read_csv('first_prediction')\n",
    "second = pd.read_csv('second_prediction')\n",
    "third = pd.read_csv('third_prediction')"
   ]
  },
  {
   "cell_type": "markdown",
   "metadata": {},
   "source": [
    "# Análisis de los dataframes\n",
    "\n",
    "---\n",
    "\n",
    "Procedemos a visualizar y chequear todos los dataframes para realizar las comparaciones entre los hechos reales y las predicciones"
   ]
  },
  {
   "cell_type": "code",
   "execution_count": 86,
   "metadata": {},
   "outputs": [
    {
     "data": {
      "text/plain": [
       "(60, 11)"
      ]
     },
     "execution_count": 86,
     "metadata": {},
     "output_type": "execute_result"
    }
   ],
   "source": [
    "race.shape"
   ]
  },
  {
   "cell_type": "code",
   "execution_count": 87,
   "metadata": {},
   "outputs": [
    {
     "data": {
      "text/html": [
       "<div>\n",
       "<style scoped>\n",
       "    .dataframe tbody tr th:only-of-type {\n",
       "        vertical-align: middle;\n",
       "    }\n",
       "\n",
       "    .dataframe tbody tr th {\n",
       "        vertical-align: top;\n",
       "    }\n",
       "\n",
       "    .dataframe thead th {\n",
       "        text-align: right;\n",
       "    }\n",
       "</style>\n",
       "<table border=\"1\" class=\"dataframe\">\n",
       "  <thead>\n",
       "    <tr style=\"text-align: right;\">\n",
       "      <th></th>\n",
       "      <th>year</th>\n",
       "      <th>date</th>\n",
       "      <th>time</th>\n",
       "      <th>const_name</th>\n",
       "      <th>const_points</th>\n",
       "      <th>temperature</th>\n",
       "      <th>wind</th>\n",
       "      <th>visibility</th>\n",
       "      <th>rainfall</th>\n",
       "      <th>safety_car</th>\n",
       "      <th>length</th>\n",
       "    </tr>\n",
       "  </thead>\n",
       "  <tbody>\n",
       "    <tr>\n",
       "      <th>0</th>\n",
       "      <td>2023</td>\n",
       "      <td>2023-06-04</td>\n",
       "      <td>15:00:00</td>\n",
       "      <td>Red Bull</td>\n",
       "      <td>249.0</td>\n",
       "      <td>22</td>\n",
       "      <td>15</td>\n",
       "      <td>10</td>\n",
       "      <td>False</td>\n",
       "      <td>NaN</td>\n",
       "      <td>4655</td>\n",
       "    </tr>\n",
       "    <tr>\n",
       "      <th>1</th>\n",
       "      <td>2023</td>\n",
       "      <td>2023-06-04</td>\n",
       "      <td>15:00:00</td>\n",
       "      <td>Red Bull</td>\n",
       "      <td>249.0</td>\n",
       "      <td>21</td>\n",
       "      <td>12</td>\n",
       "      <td>10</td>\n",
       "      <td>False</td>\n",
       "      <td>NaN</td>\n",
       "      <td>4655</td>\n",
       "    </tr>\n",
       "    <tr>\n",
       "      <th>2</th>\n",
       "      <td>2023</td>\n",
       "      <td>2023-06-04</td>\n",
       "      <td>15:00:00</td>\n",
       "      <td>Red Bull</td>\n",
       "      <td>249.0</td>\n",
       "      <td>22</td>\n",
       "      <td>15</td>\n",
       "      <td>10</td>\n",
       "      <td>False</td>\n",
       "      <td>NaN</td>\n",
       "      <td>4655</td>\n",
       "    </tr>\n",
       "    <tr>\n",
       "      <th>3</th>\n",
       "      <td>2023</td>\n",
       "      <td>2023-06-04</td>\n",
       "      <td>15:00:00</td>\n",
       "      <td>Ferrari</td>\n",
       "      <td>90.0</td>\n",
       "      <td>22</td>\n",
       "      <td>15</td>\n",
       "      <td>10</td>\n",
       "      <td>False</td>\n",
       "      <td>NaN</td>\n",
       "      <td>4655</td>\n",
       "    </tr>\n",
       "    <tr>\n",
       "      <th>4</th>\n",
       "      <td>2023</td>\n",
       "      <td>2023-06-04</td>\n",
       "      <td>15:00:00</td>\n",
       "      <td>Ferrari</td>\n",
       "      <td>90.0</td>\n",
       "      <td>21</td>\n",
       "      <td>12</td>\n",
       "      <td>10</td>\n",
       "      <td>False</td>\n",
       "      <td>NaN</td>\n",
       "      <td>4655</td>\n",
       "    </tr>\n",
       "  </tbody>\n",
       "</table>\n",
       "</div>"
      ],
      "text/plain": [
       "   year        date      time const_name  const_points  temperature  wind  \\\n",
       "0  2023  2023-06-04  15:00:00   Red Bull         249.0           22    15   \n",
       "1  2023  2023-06-04  15:00:00   Red Bull         249.0           21    12   \n",
       "2  2023  2023-06-04  15:00:00   Red Bull         249.0           22    15   \n",
       "3  2023  2023-06-04  15:00:00    Ferrari          90.0           22    15   \n",
       "4  2023  2023-06-04  15:00:00    Ferrari          90.0           21    12   \n",
       "\n",
       "   visibility  rainfall  safety_car  length  \n",
       "0          10     False         NaN    4655  \n",
       "1          10     False         NaN    4655  \n",
       "2          10     False         NaN    4655  \n",
       "3          10     False         NaN    4655  \n",
       "4          10     False         NaN    4655  "
      ]
     },
     "execution_count": 87,
     "metadata": {},
     "output_type": "execute_result"
    }
   ],
   "source": [
    "race.head()"
   ]
  },
  {
   "cell_type": "code",
   "execution_count": 88,
   "metadata": {},
   "outputs": [
    {
     "data": {
      "text/plain": [
       "safety_car\n",
       "False    60\n",
       "Name: count, dtype: int64"
      ]
     },
     "execution_count": 88,
     "metadata": {},
     "output_type": "execute_result"
    }
   ],
   "source": [
    "race['safety_car'] = False\n",
    "\n",
    "race['safety_car'].value_counts()"
   ]
  },
  {
   "cell_type": "code",
   "execution_count": 89,
   "metadata": {},
   "outputs": [
    {
     "data": {
      "text/html": [
       "<div>\n",
       "<style scoped>\n",
       "    .dataframe tbody tr th:only-of-type {\n",
       "        vertical-align: middle;\n",
       "    }\n",
       "\n",
       "    .dataframe tbody tr th {\n",
       "        vertical-align: top;\n",
       "    }\n",
       "\n",
       "    .dataframe thead th {\n",
       "        text-align: right;\n",
       "    }\n",
       "</style>\n",
       "<table border=\"1\" class=\"dataframe\">\n",
       "  <thead>\n",
       "    <tr style=\"text-align: right;\">\n",
       "      <th></th>\n",
       "      <th>year</th>\n",
       "      <th>date</th>\n",
       "      <th>time</th>\n",
       "      <th>const_name</th>\n",
       "      <th>const_points</th>\n",
       "      <th>temperature</th>\n",
       "      <th>wind</th>\n",
       "      <th>visibility</th>\n",
       "      <th>rainfall</th>\n",
       "      <th>safety_car</th>\n",
       "      <th>length</th>\n",
       "    </tr>\n",
       "  </thead>\n",
       "  <tbody>\n",
       "    <tr>\n",
       "      <th>0</th>\n",
       "      <td>2023</td>\n",
       "      <td>2023-06-04</td>\n",
       "      <td>15:00:00</td>\n",
       "      <td>Red Bull</td>\n",
       "      <td>249.0</td>\n",
       "      <td>22</td>\n",
       "      <td>15</td>\n",
       "      <td>10</td>\n",
       "      <td>False</td>\n",
       "      <td>False</td>\n",
       "      <td>4655</td>\n",
       "    </tr>\n",
       "    <tr>\n",
       "      <th>1</th>\n",
       "      <td>2023</td>\n",
       "      <td>2023-06-04</td>\n",
       "      <td>15:00:00</td>\n",
       "      <td>Red Bull</td>\n",
       "      <td>249.0</td>\n",
       "      <td>21</td>\n",
       "      <td>12</td>\n",
       "      <td>10</td>\n",
       "      <td>False</td>\n",
       "      <td>False</td>\n",
       "      <td>4655</td>\n",
       "    </tr>\n",
       "    <tr>\n",
       "      <th>2</th>\n",
       "      <td>2023</td>\n",
       "      <td>2023-06-04</td>\n",
       "      <td>15:00:00</td>\n",
       "      <td>Red Bull</td>\n",
       "      <td>249.0</td>\n",
       "      <td>22</td>\n",
       "      <td>15</td>\n",
       "      <td>10</td>\n",
       "      <td>False</td>\n",
       "      <td>False</td>\n",
       "      <td>4655</td>\n",
       "    </tr>\n",
       "    <tr>\n",
       "      <th>3</th>\n",
       "      <td>2023</td>\n",
       "      <td>2023-06-04</td>\n",
       "      <td>15:00:00</td>\n",
       "      <td>Ferrari</td>\n",
       "      <td>90.0</td>\n",
       "      <td>22</td>\n",
       "      <td>15</td>\n",
       "      <td>10</td>\n",
       "      <td>False</td>\n",
       "      <td>False</td>\n",
       "      <td>4655</td>\n",
       "    </tr>\n",
       "    <tr>\n",
       "      <th>4</th>\n",
       "      <td>2023</td>\n",
       "      <td>2023-06-04</td>\n",
       "      <td>15:00:00</td>\n",
       "      <td>Ferrari</td>\n",
       "      <td>90.0</td>\n",
       "      <td>21</td>\n",
       "      <td>12</td>\n",
       "      <td>10</td>\n",
       "      <td>False</td>\n",
       "      <td>False</td>\n",
       "      <td>4655</td>\n",
       "    </tr>\n",
       "  </tbody>\n",
       "</table>\n",
       "</div>"
      ],
      "text/plain": [
       "   year        date      time const_name  const_points  temperature  wind  \\\n",
       "0  2023  2023-06-04  15:00:00   Red Bull         249.0           22    15   \n",
       "1  2023  2023-06-04  15:00:00   Red Bull         249.0           21    12   \n",
       "2  2023  2023-06-04  15:00:00   Red Bull         249.0           22    15   \n",
       "3  2023  2023-06-04  15:00:00    Ferrari          90.0           22    15   \n",
       "4  2023  2023-06-04  15:00:00    Ferrari          90.0           21    12   \n",
       "\n",
       "   visibility  rainfall  safety_car  length  \n",
       "0          10     False       False    4655  \n",
       "1          10     False       False    4655  \n",
       "2          10     False       False    4655  \n",
       "3          10     False       False    4655  \n",
       "4          10     False       False    4655  "
      ]
     },
     "execution_count": 89,
     "metadata": {},
     "output_type": "execute_result"
    }
   ],
   "source": [
    "race.head()"
   ]
  },
  {
   "cell_type": "code",
   "execution_count": 90,
   "metadata": {},
   "outputs": [
    {
     "data": {
      "text/plain": [
       "(60, 11)"
      ]
     },
     "execution_count": 90,
     "metadata": {},
     "output_type": "execute_result"
    }
   ],
   "source": [
    "race.shape"
   ]
  },
  {
   "cell_type": "code",
   "execution_count": 91,
   "metadata": {},
   "outputs": [
    {
     "data": {
      "text/plain": [
       "(60, 11)"
      ]
     },
     "execution_count": 91,
     "metadata": {},
     "output_type": "execute_result"
    }
   ],
   "source": [
    "first.shape"
   ]
  },
  {
   "cell_type": "code",
   "execution_count": 92,
   "metadata": {},
   "outputs": [
    {
     "data": {
      "text/html": [
       "<div>\n",
       "<style scoped>\n",
       "    .dataframe tbody tr th:only-of-type {\n",
       "        vertical-align: middle;\n",
       "    }\n",
       "\n",
       "    .dataframe tbody tr th {\n",
       "        vertical-align: top;\n",
       "    }\n",
       "\n",
       "    .dataframe thead th {\n",
       "        text-align: right;\n",
       "    }\n",
       "</style>\n",
       "<table border=\"1\" class=\"dataframe\">\n",
       "  <thead>\n",
       "    <tr style=\"text-align: right;\">\n",
       "      <th></th>\n",
       "      <th>year</th>\n",
       "      <th>date</th>\n",
       "      <th>time</th>\n",
       "      <th>const_name</th>\n",
       "      <th>const_points</th>\n",
       "      <th>temperature</th>\n",
       "      <th>wind</th>\n",
       "      <th>visibility</th>\n",
       "      <th>rainfall</th>\n",
       "      <th>safety_car</th>\n",
       "      <th>length</th>\n",
       "    </tr>\n",
       "  </thead>\n",
       "  <tbody>\n",
       "    <tr>\n",
       "      <th>0</th>\n",
       "      <td>2023</td>\n",
       "      <td>2023-06-04</td>\n",
       "      <td>15:00:00</td>\n",
       "      <td>Red Bull</td>\n",
       "      <td>249.0</td>\n",
       "      <td>22</td>\n",
       "      <td>15</td>\n",
       "      <td>10</td>\n",
       "      <td>False</td>\n",
       "      <td>False</td>\n",
       "      <td>4655</td>\n",
       "    </tr>\n",
       "    <tr>\n",
       "      <th>1</th>\n",
       "      <td>2023</td>\n",
       "      <td>2023-06-04</td>\n",
       "      <td>15:00:00</td>\n",
       "      <td>Red Bull</td>\n",
       "      <td>249.0</td>\n",
       "      <td>21</td>\n",
       "      <td>12</td>\n",
       "      <td>10</td>\n",
       "      <td>False</td>\n",
       "      <td>False</td>\n",
       "      <td>4655</td>\n",
       "    </tr>\n",
       "    <tr>\n",
       "      <th>2</th>\n",
       "      <td>2023</td>\n",
       "      <td>2023-06-04</td>\n",
       "      <td>15:00:00</td>\n",
       "      <td>Red Bull</td>\n",
       "      <td>249.0</td>\n",
       "      <td>22</td>\n",
       "      <td>15</td>\n",
       "      <td>10</td>\n",
       "      <td>False</td>\n",
       "      <td>False</td>\n",
       "      <td>4655</td>\n",
       "    </tr>\n",
       "    <tr>\n",
       "      <th>3</th>\n",
       "      <td>2023</td>\n",
       "      <td>2023-06-04</td>\n",
       "      <td>15:00:00</td>\n",
       "      <td>Ferrari</td>\n",
       "      <td>90.0</td>\n",
       "      <td>22</td>\n",
       "      <td>15</td>\n",
       "      <td>10</td>\n",
       "      <td>False</td>\n",
       "      <td>False</td>\n",
       "      <td>4655</td>\n",
       "    </tr>\n",
       "    <tr>\n",
       "      <th>4</th>\n",
       "      <td>2023</td>\n",
       "      <td>2023-06-04</td>\n",
       "      <td>15:00:00</td>\n",
       "      <td>Ferrari</td>\n",
       "      <td>90.0</td>\n",
       "      <td>21</td>\n",
       "      <td>12</td>\n",
       "      <td>10</td>\n",
       "      <td>False</td>\n",
       "      <td>False</td>\n",
       "      <td>4655</td>\n",
       "    </tr>\n",
       "  </tbody>\n",
       "</table>\n",
       "</div>"
      ],
      "text/plain": [
       "   year        date      time const_name  const_points  temperature  wind  \\\n",
       "0  2023  2023-06-04  15:00:00   Red Bull         249.0           22    15   \n",
       "1  2023  2023-06-04  15:00:00   Red Bull         249.0           21    12   \n",
       "2  2023  2023-06-04  15:00:00   Red Bull         249.0           22    15   \n",
       "3  2023  2023-06-04  15:00:00    Ferrari          90.0           22    15   \n",
       "4  2023  2023-06-04  15:00:00    Ferrari          90.0           21    12   \n",
       "\n",
       "   visibility  rainfall  safety_car  length  \n",
       "0          10     False       False    4655  \n",
       "1          10     False       False    4655  \n",
       "2          10     False       False    4655  \n",
       "3          10     False       False    4655  \n",
       "4          10     False       False    4655  "
      ]
     },
     "execution_count": 92,
     "metadata": {},
     "output_type": "execute_result"
    }
   ],
   "source": [
    "first.head()"
   ]
  },
  {
   "cell_type": "code",
   "execution_count": 93,
   "metadata": {},
   "outputs": [
    {
     "data": {
      "text/plain": [
       "(60, 11)"
      ]
     },
     "execution_count": 93,
     "metadata": {},
     "output_type": "execute_result"
    }
   ],
   "source": [
    "second.shape"
   ]
  },
  {
   "cell_type": "code",
   "execution_count": 94,
   "metadata": {},
   "outputs": [
    {
     "data": {
      "text/html": [
       "<div>\n",
       "<style scoped>\n",
       "    .dataframe tbody tr th:only-of-type {\n",
       "        vertical-align: middle;\n",
       "    }\n",
       "\n",
       "    .dataframe tbody tr th {\n",
       "        vertical-align: top;\n",
       "    }\n",
       "\n",
       "    .dataframe thead th {\n",
       "        text-align: right;\n",
       "    }\n",
       "</style>\n",
       "<table border=\"1\" class=\"dataframe\">\n",
       "  <thead>\n",
       "    <tr style=\"text-align: right;\">\n",
       "      <th></th>\n",
       "      <th>year</th>\n",
       "      <th>date</th>\n",
       "      <th>time</th>\n",
       "      <th>const_name</th>\n",
       "      <th>const_points</th>\n",
       "      <th>temperature</th>\n",
       "      <th>wind</th>\n",
       "      <th>visibility</th>\n",
       "      <th>rainfall</th>\n",
       "      <th>safety_car</th>\n",
       "      <th>length</th>\n",
       "    </tr>\n",
       "  </thead>\n",
       "  <tbody>\n",
       "    <tr>\n",
       "      <th>0</th>\n",
       "      <td>2023</td>\n",
       "      <td>2023-06-04</td>\n",
       "      <td>15:00:00</td>\n",
       "      <td>Red Bull</td>\n",
       "      <td>249.0</td>\n",
       "      <td>22</td>\n",
       "      <td>15</td>\n",
       "      <td>10</td>\n",
       "      <td>False</td>\n",
       "      <td>False</td>\n",
       "      <td>4655</td>\n",
       "    </tr>\n",
       "    <tr>\n",
       "      <th>1</th>\n",
       "      <td>2023</td>\n",
       "      <td>2023-06-04</td>\n",
       "      <td>15:00:00</td>\n",
       "      <td>Red Bull</td>\n",
       "      <td>249.0</td>\n",
       "      <td>21</td>\n",
       "      <td>12</td>\n",
       "      <td>10</td>\n",
       "      <td>False</td>\n",
       "      <td>False</td>\n",
       "      <td>4655</td>\n",
       "    </tr>\n",
       "    <tr>\n",
       "      <th>2</th>\n",
       "      <td>2023</td>\n",
       "      <td>2023-06-04</td>\n",
       "      <td>15:00:00</td>\n",
       "      <td>Red Bull</td>\n",
       "      <td>249.0</td>\n",
       "      <td>22</td>\n",
       "      <td>15</td>\n",
       "      <td>10</td>\n",
       "      <td>False</td>\n",
       "      <td>False</td>\n",
       "      <td>4655</td>\n",
       "    </tr>\n",
       "    <tr>\n",
       "      <th>3</th>\n",
       "      <td>2023</td>\n",
       "      <td>2023-06-04</td>\n",
       "      <td>15:00:00</td>\n",
       "      <td>Ferrari</td>\n",
       "      <td>90.0</td>\n",
       "      <td>22</td>\n",
       "      <td>15</td>\n",
       "      <td>10</td>\n",
       "      <td>False</td>\n",
       "      <td>False</td>\n",
       "      <td>4655</td>\n",
       "    </tr>\n",
       "    <tr>\n",
       "      <th>4</th>\n",
       "      <td>2023</td>\n",
       "      <td>2023-06-04</td>\n",
       "      <td>15:00:00</td>\n",
       "      <td>Ferrari</td>\n",
       "      <td>90.0</td>\n",
       "      <td>21</td>\n",
       "      <td>12</td>\n",
       "      <td>10</td>\n",
       "      <td>False</td>\n",
       "      <td>False</td>\n",
       "      <td>4655</td>\n",
       "    </tr>\n",
       "  </tbody>\n",
       "</table>\n",
       "</div>"
      ],
      "text/plain": [
       "   year        date      time const_name  const_points  temperature  wind  \\\n",
       "0  2023  2023-06-04  15:00:00   Red Bull         249.0           22    15   \n",
       "1  2023  2023-06-04  15:00:00   Red Bull         249.0           21    12   \n",
       "2  2023  2023-06-04  15:00:00   Red Bull         249.0           22    15   \n",
       "3  2023  2023-06-04  15:00:00    Ferrari          90.0           22    15   \n",
       "4  2023  2023-06-04  15:00:00    Ferrari          90.0           21    12   \n",
       "\n",
       "   visibility  rainfall  safety_car  length  \n",
       "0          10     False       False    4655  \n",
       "1          10     False       False    4655  \n",
       "2          10     False       False    4655  \n",
       "3          10     False       False    4655  \n",
       "4          10     False       False    4655  "
      ]
     },
     "execution_count": 94,
     "metadata": {},
     "output_type": "execute_result"
    }
   ],
   "source": [
    "second.head()"
   ]
  },
  {
   "cell_type": "code",
   "execution_count": 95,
   "metadata": {},
   "outputs": [
    {
     "data": {
      "text/plain": [
       "(60, 11)"
      ]
     },
     "execution_count": 95,
     "metadata": {},
     "output_type": "execute_result"
    }
   ],
   "source": [
    "third.shape"
   ]
  },
  {
   "cell_type": "code",
   "execution_count": 96,
   "metadata": {},
   "outputs": [
    {
     "data": {
      "text/html": [
       "<div>\n",
       "<style scoped>\n",
       "    .dataframe tbody tr th:only-of-type {\n",
       "        vertical-align: middle;\n",
       "    }\n",
       "\n",
       "    .dataframe tbody tr th {\n",
       "        vertical-align: top;\n",
       "    }\n",
       "\n",
       "    .dataframe thead th {\n",
       "        text-align: right;\n",
       "    }\n",
       "</style>\n",
       "<table border=\"1\" class=\"dataframe\">\n",
       "  <thead>\n",
       "    <tr style=\"text-align: right;\">\n",
       "      <th></th>\n",
       "      <th>year</th>\n",
       "      <th>date</th>\n",
       "      <th>time</th>\n",
       "      <th>const_name</th>\n",
       "      <th>const_points</th>\n",
       "      <th>temperature</th>\n",
       "      <th>wind</th>\n",
       "      <th>visibility</th>\n",
       "      <th>rainfall</th>\n",
       "      <th>safety_car</th>\n",
       "      <th>length</th>\n",
       "    </tr>\n",
       "  </thead>\n",
       "  <tbody>\n",
       "    <tr>\n",
       "      <th>0</th>\n",
       "      <td>2023</td>\n",
       "      <td>2023-06-04</td>\n",
       "      <td>15:00:00</td>\n",
       "      <td>Red Bull</td>\n",
       "      <td>249.0</td>\n",
       "      <td>22</td>\n",
       "      <td>15</td>\n",
       "      <td>10</td>\n",
       "      <td>False</td>\n",
       "      <td>False</td>\n",
       "      <td>4655</td>\n",
       "    </tr>\n",
       "    <tr>\n",
       "      <th>1</th>\n",
       "      <td>2023</td>\n",
       "      <td>2023-06-04</td>\n",
       "      <td>15:00:00</td>\n",
       "      <td>Red Bull</td>\n",
       "      <td>249.0</td>\n",
       "      <td>21</td>\n",
       "      <td>12</td>\n",
       "      <td>10</td>\n",
       "      <td>False</td>\n",
       "      <td>False</td>\n",
       "      <td>4655</td>\n",
       "    </tr>\n",
       "    <tr>\n",
       "      <th>2</th>\n",
       "      <td>2023</td>\n",
       "      <td>2023-06-04</td>\n",
       "      <td>15:00:00</td>\n",
       "      <td>Red Bull</td>\n",
       "      <td>249.0</td>\n",
       "      <td>22</td>\n",
       "      <td>15</td>\n",
       "      <td>10</td>\n",
       "      <td>False</td>\n",
       "      <td>False</td>\n",
       "      <td>4655</td>\n",
       "    </tr>\n",
       "    <tr>\n",
       "      <th>3</th>\n",
       "      <td>2023</td>\n",
       "      <td>2023-06-04</td>\n",
       "      <td>15:00:00</td>\n",
       "      <td>Ferrari</td>\n",
       "      <td>90.0</td>\n",
       "      <td>22</td>\n",
       "      <td>15</td>\n",
       "      <td>10</td>\n",
       "      <td>False</td>\n",
       "      <td>False</td>\n",
       "      <td>4655</td>\n",
       "    </tr>\n",
       "    <tr>\n",
       "      <th>4</th>\n",
       "      <td>2023</td>\n",
       "      <td>2023-06-04</td>\n",
       "      <td>15:00:00</td>\n",
       "      <td>Ferrari</td>\n",
       "      <td>90.0</td>\n",
       "      <td>21</td>\n",
       "      <td>12</td>\n",
       "      <td>10</td>\n",
       "      <td>False</td>\n",
       "      <td>False</td>\n",
       "      <td>4655</td>\n",
       "    </tr>\n",
       "  </tbody>\n",
       "</table>\n",
       "</div>"
      ],
      "text/plain": [
       "   year        date      time const_name  const_points  temperature  wind  \\\n",
       "0  2023  2023-06-04  15:00:00   Red Bull         249.0           22    15   \n",
       "1  2023  2023-06-04  15:00:00   Red Bull         249.0           21    12   \n",
       "2  2023  2023-06-04  15:00:00   Red Bull         249.0           22    15   \n",
       "3  2023  2023-06-04  15:00:00    Ferrari          90.0           22    15   \n",
       "4  2023  2023-06-04  15:00:00    Ferrari          90.0           21    12   \n",
       "\n",
       "   visibility  rainfall  safety_car  length  \n",
       "0          10     False       False    4655  \n",
       "1          10     False       False    4655  \n",
       "2          10     False       False    4655  \n",
       "3          10     False       False    4655  \n",
       "4          10     False       False    4655  "
      ]
     },
     "execution_count": 96,
     "metadata": {},
     "output_type": "execute_result"
    }
   ],
   "source": [
    "third.head()"
   ]
  },
  {
   "cell_type": "markdown",
   "metadata": {},
   "source": [
    "# Comparación\n",
    "\n",
    "---\n",
    "\n",
    "Procedemos a realizar las comparaciones entre los hechos reales y las predicciones"
   ]
  },
  {
   "cell_type": "code",
   "execution_count": 97,
   "metadata": {},
   "outputs": [
    {
     "data": {
      "text/html": [
       "<div>\n",
       "<style scoped>\n",
       "    .dataframe tbody tr th:only-of-type {\n",
       "        vertical-align: middle;\n",
       "    }\n",
       "\n",
       "    .dataframe tbody tr th {\n",
       "        vertical-align: top;\n",
       "    }\n",
       "\n",
       "    .dataframe thead th {\n",
       "        text-align: right;\n",
       "    }\n",
       "</style>\n",
       "<table border=\"1\" class=\"dataframe\">\n",
       "  <thead>\n",
       "    <tr style=\"text-align: right;\">\n",
       "      <th></th>\n",
       "      <th>Hechos</th>\n",
       "      <th>Predicción</th>\n",
       "    </tr>\n",
       "  </thead>\n",
       "  <tbody>\n",
       "    <tr>\n",
       "      <th>0</th>\n",
       "      <td>False</td>\n",
       "      <td>False</td>\n",
       "    </tr>\n",
       "    <tr>\n",
       "      <th>1</th>\n",
       "      <td>False</td>\n",
       "      <td>False</td>\n",
       "    </tr>\n",
       "    <tr>\n",
       "      <th>2</th>\n",
       "      <td>False</td>\n",
       "      <td>False</td>\n",
       "    </tr>\n",
       "    <tr>\n",
       "      <th>3</th>\n",
       "      <td>False</td>\n",
       "      <td>False</td>\n",
       "    </tr>\n",
       "    <tr>\n",
       "      <th>4</th>\n",
       "      <td>False</td>\n",
       "      <td>False</td>\n",
       "    </tr>\n",
       "  </tbody>\n",
       "</table>\n",
       "</div>"
      ],
      "text/plain": [
       "   Hechos  Predicción\n",
       "0   False       False\n",
       "1   False       False\n",
       "2   False       False\n",
       "3   False       False\n",
       "4   False       False"
      ]
     },
     "execution_count": 97,
     "metadata": {},
     "output_type": "execute_result"
    }
   ],
   "source": [
    "comparison_first = pd.DataFrame({'Hechos': race['safety_car'], 'Predicción': first['safety_car']})\n",
    "\n",
    "comparison_first.head()"
   ]
  },
  {
   "cell_type": "code",
   "execution_count": 98,
   "metadata": {},
   "outputs": [
    {
     "data": {
      "image/png": "[encoded data removed]",
      "text/plain": [
       "<Figure size 640x480 with 1 Axes>"
      ]
     },
     "metadata": {},
     "output_type": "display_data"
    }
   ],
   "source": [
    "plt.scatter(range(len(comparison_first)), comparison_first['Hechos'], label='Hechos', marker='o')\n",
    "plt.scatter(range(len(comparison_first)), comparison_first['Predicción'], label='Predicción', marker='x')\n",
    "plt.xlabel('Muestras')\n",
    "plt.ylabel('Valor')\n",
    "plt.title('Comparación entre los Hechos y la Predicción 1')\n",
    "plt.legend()\n",
    "plt.show(); "
   ]
  },
  {
   "cell_type": "code",
   "execution_count": 99,
   "metadata": {},
   "outputs": [
    {
     "data": {
      "text/html": [
       "<div>\n",
       "<style scoped>\n",
       "    .dataframe tbody tr th:only-of-type {\n",
       "        vertical-align: middle;\n",
       "    }\n",
       "\n",
       "    .dataframe tbody tr th {\n",
       "        vertical-align: top;\n",
       "    }\n",
       "\n",
       "    .dataframe thead th {\n",
       "        text-align: right;\n",
       "    }\n",
       "</style>\n",
       "<table border=\"1\" class=\"dataframe\">\n",
       "  <thead>\n",
       "    <tr style=\"text-align: right;\">\n",
       "      <th></th>\n",
       "      <th>Hechos</th>\n",
       "      <th>Predicción</th>\n",
       "    </tr>\n",
       "  </thead>\n",
       "  <tbody>\n",
       "    <tr>\n",
       "      <th>0</th>\n",
       "      <td>False</td>\n",
       "      <td>False</td>\n",
       "    </tr>\n",
       "    <tr>\n",
       "      <th>1</th>\n",
       "      <td>False</td>\n",
       "      <td>False</td>\n",
       "    </tr>\n",
       "    <tr>\n",
       "      <th>2</th>\n",
       "      <td>False</td>\n",
       "      <td>False</td>\n",
       "    </tr>\n",
       "    <tr>\n",
       "      <th>3</th>\n",
       "      <td>False</td>\n",
       "      <td>False</td>\n",
       "    </tr>\n",
       "    <tr>\n",
       "      <th>4</th>\n",
       "      <td>False</td>\n",
       "      <td>False</td>\n",
       "    </tr>\n",
       "  </tbody>\n",
       "</table>\n",
       "</div>"
      ],
      "text/plain": [
       "   Hechos  Predicción\n",
       "0   False       False\n",
       "1   False       False\n",
       "2   False       False\n",
       "3   False       False\n",
       "4   False       False"
      ]
     },
     "execution_count": 99,
     "metadata": {},
     "output_type": "execute_result"
    }
   ],
   "source": [
    "comparison_second = pd.DataFrame({'Hechos': race['safety_car'], 'Predicción': first['safety_car']})\n",
    "\n",
    "comparison_second.head()"
   ]
  },
  {
   "cell_type": "code",
   "execution_count": 100,
   "metadata": {},
   "outputs": [
    {
     "data": {
      "image/png": "[encoded data removed]",
      "text/plain": [
       "<Figure size 640x480 with 1 Axes>"
      ]
     },
     "metadata": {},
     "output_type": "display_data"
    }
   ],
   "source": [
    "plt.scatter(range(len(comparison_second)), comparison_second['Hechos'], label='Hechos', marker='o')\n",
    "plt.scatter(range(len(comparison_second)), comparison_second['Predicción'], label='Predicción', marker='x')\n",
    "plt.xlabel('Muestras')\n",
    "plt.ylabel('Valor')\n",
    "plt.title('Comparación entre los Hechos y la Predicción 2')\n",
    "plt.legend()\n",
    "plt.show(); "
   ]
  },
  {
   "cell_type": "code",
   "execution_count": 101,
   "metadata": {},
   "outputs": [
    {
     "data": {
      "text/html": [
       "<div>\n",
       "<style scoped>\n",
       "    .dataframe tbody tr th:only-of-type {\n",
       "        vertical-align: middle;\n",
       "    }\n",
       "\n",
       "    .dataframe tbody tr th {\n",
       "        vertical-align: top;\n",
       "    }\n",
       "\n",
       "    .dataframe thead th {\n",
       "        text-align: right;\n",
       "    }\n",
       "</style>\n",
       "<table border=\"1\" class=\"dataframe\">\n",
       "  <thead>\n",
       "    <tr style=\"text-align: right;\">\n",
       "      <th></th>\n",
       "      <th>Hechos</th>\n",
       "      <th>Predicción</th>\n",
       "    </tr>\n",
       "  </thead>\n",
       "  <tbody>\n",
       "    <tr>\n",
       "      <th>0</th>\n",
       "      <td>False</td>\n",
       "      <td>False</td>\n",
       "    </tr>\n",
       "    <tr>\n",
       "      <th>1</th>\n",
       "      <td>False</td>\n",
       "      <td>False</td>\n",
       "    </tr>\n",
       "    <tr>\n",
       "      <th>2</th>\n",
       "      <td>False</td>\n",
       "      <td>False</td>\n",
       "    </tr>\n",
       "    <tr>\n",
       "      <th>3</th>\n",
       "      <td>False</td>\n",
       "      <td>False</td>\n",
       "    </tr>\n",
       "    <tr>\n",
       "      <th>4</th>\n",
       "      <td>False</td>\n",
       "      <td>False</td>\n",
       "    </tr>\n",
       "  </tbody>\n",
       "</table>\n",
       "</div>"
      ],
      "text/plain": [
       "   Hechos  Predicción\n",
       "0   False       False\n",
       "1   False       False\n",
       "2   False       False\n",
       "3   False       False\n",
       "4   False       False"
      ]
     },
     "execution_count": 101,
     "metadata": {},
     "output_type": "execute_result"
    }
   ],
   "source": [
    "comparison_third = pd.DataFrame({'Hechos': race['safety_car'], 'Predicción': first['safety_car']})\n",
    "\n",
    "comparison_third.head()"
   ]
  },
  {
   "cell_type": "code",
   "execution_count": 102,
   "metadata": {},
   "outputs": [
    {
     "data": {
      "image/png": "[encoded data removed]",
      "text/plain": [
       "<Figure size 640x480 with 1 Axes>"
      ]
     },
     "metadata": {},
     "output_type": "display_data"
    }
   ],
   "source": [
    "plt.scatter(range(len(comparison_third)), comparison_third['Hechos'], label='Hechos', marker='o')\n",
    "plt.scatter(range(len(comparison_third)), comparison_third['Predicción'], label='Predicción', marker='x')\n",
    "plt.xlabel('Muestras')\n",
    "plt.ylabel('Valor')\n",
    "plt.title('Comparación entre los Hechos y la Predicción 3')\n",
    "plt.legend()\n",
    "plt.show(); "
   ]
  }
 ],
 "metadata": {
  "kernelspec": {
   "display_name": "Python 3",
   "language": "python",
   "name": "python3"
  },
  "language_info": {
   "codemirror_mode": {
    "name": "ipython",
    "version": 3
   },
   "file_extension": ".py",
   "mimetype": "text/x-python",
   "name": "python",
   "nbconvert_exporter": "python",
   "pygments_lexer": "ipython3",
   "version": "3.11.6"
  },
  "orig_nbformat": 4
 },
 "nbformat": 4,
 "nbformat_minor": 2
}
